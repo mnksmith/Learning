{
 "cells": [
  {
   "cell_type": "markdown",
   "metadata": {},
   "source": [
    "# Data exploration"
   ]
  },
  {
   "cell_type": "code",
   "execution_count": 40,
   "metadata": {},
   "outputs": [
    {
     "name": "stdout",
     "output_type": "stream",
     "text": [
      "       Job #  Doc #        Borough       House #  \\\n",
      "0  121577873      2      MANHATTAN  386            \n",
      "1  520129502      1  STATEN ISLAND  107            \n",
      "2  121601560      1      MANHATTAN  63             \n",
      "3  121601203      1      MANHATTAN  48             \n",
      "4  121601338      1      MANHATTAN  45             \n",
      "\n",
      "                        Street Name  Block  Lot    Bin # Job Type Job Status  \\\n",
      "0  PARK AVENUE SOUTH                   857   38  1016890       A2          D   \n",
      "1  KNOX PLACE                          342    1  5161350       A3          A   \n",
      "2  WEST 131 STREET                    1729    9  1053831       A2          Q   \n",
      "3  WEST 25TH STREET                    826   69  1015610       A2          D   \n",
      "4  WEST 29 STREET                      831    7  1015754       A3          D   \n",
      "\n",
      "            ...                         Owner's Last Name  \\\n",
      "0           ...            MIGLIORE                         \n",
      "1           ...            BLUMENBERG                       \n",
      "2           ...            MARKOWITZ                        \n",
      "3           ...            CASALE                           \n",
      "4           ...            LEE                              \n",
      "\n",
      "              Owner's Business Name Owner's House Number  \\\n",
      "0  MACKLOWE MANAGEMENT                      126            \n",
      "1  NA                                       107            \n",
      "2  635 RIVERSIDE DRIVE NY LLC               619            \n",
      "3  48 W 25 ST LLC C/O BERNSTEIN             150            \n",
      "4  HYUNG-HYANG REALTY CORP                  614            \n",
      "\n",
      "           Owner'sHouse Street Name            City  State    Zip  \\\n",
      "0  EAST 56TH STREET                  NEW YORK           NY  10222   \n",
      "1  KNOX PLACE                        STATEN ISLAND      NY  10314   \n",
      "2  WEST 54TH STREET                  NEW YORK           NY  10016   \n",
      "3  WEST 30TH STREET                  NEW YORK           NY  10001   \n",
      "4  8 AVENUE                          NEW YORK           NY  10001   \n",
      "\n",
      "  Owner'sPhone #                                    Job Description  \\\n",
      "0     2125545837  GENERAL MECHANICAL & PLUMBING MODIFICATIONS AS...   \n",
      "1     3477398892  BUILDERS PAVEMENT PLAN 143 LF.                ...   \n",
      "2     2127652555  GENERAL CONSTRUCTION TO INCLUDE NEW PARTITIONS...   \n",
      "3     2125941414  STRUCTURAL CHANGES ON THE 5TH FLOOR (MOONDOG E...   \n",
      "4     2019881222  FILING HEREWITH FACADE REPAIR PLANS. WORK SCOP...   \n",
      "\n",
      "               DOBRunDate  \n",
      "0  04/26/2013 12:00:00 AM  \n",
      "1  04/26/2013 12:00:00 AM  \n",
      "2  04/26/2013 12:00:00 AM  \n",
      "3  04/26/2013 12:00:00 AM  \n",
      "4  04/26/2013 12:00:00 AM  \n",
      "\n",
      "[5 rows x 82 columns]\n",
      "           Job #  Doc #        Borough       House #  \\\n",
      "12841  520143988      1  STATEN ISLAND  8              \n",
      "12842  121613833      1      MANHATTAN  724            \n",
      "12843  121681260      1      MANHATTAN  350            \n",
      "12844  320771704      1       BROOKLYN  499            \n",
      "12845  520143951      1  STATEN ISLAND  1755           \n",
      "\n",
      "                            Street Name  Block  Lot    Bin # Job Type  \\\n",
      "12841  NOEL STREET                        5382   20  5069722       A2   \n",
      "12842  10 AVENUE                          1059    4  1082503       A2   \n",
      "12843  MANHATTAN AVE.                     1848   31  1055849       A2   \n",
      "12844  UNION STREET                        431   43  3007185       A2   \n",
      "12845  RICHMOND ROAD                       887   28  5022931       A2   \n",
      "\n",
      "      Job Status           ...                         Owner's Last Name  \\\n",
      "12841          D           ...            MALITO                           \n",
      "12842          D           ...            CROMAN                           \n",
      "12843          A           ...            ARYEH                            \n",
      "12844          D           ...            WIGGINS                          \n",
      "12845          D           ...            CAMBRIA                          \n",
      "\n",
      "                  Owner's Business Name Owner's House Number  \\\n",
      "12841  GENO MALITO                              8              \n",
      "12842  722-724 10TH AVENUE HOLDING LLC          632            \n",
      "12843  DG UWS LLC                               619            \n",
      "12844  N/A                                      77             \n",
      "12845  RONALD CAMBRIA                           1755           \n",
      "\n",
      "               Owner'sHouse Street Name            City  State    Zip  \\\n",
      "12841  NOEL STREET                       STATEN ISLAND      NY  10312   \n",
      "12842  BROADWAY                          NEW YORK           NY  10012   \n",
      "12843  WEST 54TH STREET                  NEW YORK           NY  10019   \n",
      "12844  PROSPECT PLACE                    BROOKLYN           NY  11217   \n",
      "12845  RICHMOND ROAD                     STATEN ISLAND      NY  10304   \n",
      "\n",
      "      Owner'sPhone #                                    Job Description  \\\n",
      "12841     9174685659  HORIZONTAL ENLARGEMENT OF ATTACHED ONE CAR GAR...   \n",
      "12842     2122289300  RENOVATION OF EXISTING APARTMENT #3B ON THIRD ...   \n",
      "12843     2127652555  REPLACE BURNER IN EXSTG BOILER WITH NEW GAS BU...   \n",
      "12844     9178487799  INSTALL NEW SPRINKLER SYSTEM THROUGHOUT THE BU...   \n",
      "12845     7184482740  INTERIOR PARTITIONS AND MINOR PLUMBING WORK TO...   \n",
      "\n",
      "                   DOBRunDate  \n",
      "12841  06/13/2013 12:00:00 AM  \n",
      "12842  06/13/2013 12:00:00 AM  \n",
      "12843  06/13/2013 12:00:00 AM  \n",
      "12844  06/13/2013 12:00:00 AM  \n",
      "12845  06/13/2013 12:00:00 AM  \n",
      "\n",
      "[5 rows x 82 columns]\n",
      "(12846, 82)\n",
      "Index(['Job #', 'Doc #', 'Borough', 'House #', 'Street Name', 'Block', 'Lot',\n",
      "       'Bin #', 'Job Type', 'Job Status', 'Job Status Descrp',\n",
      "       'Latest Action Date', 'Building Type', 'Community - Board', 'Cluster',\n",
      "       'Landmarked', 'Adult Estab', 'Loft Board', 'City Owned', 'Little e',\n",
      "       'PC Filed', 'eFiling Filed', 'Plumbing', 'Mechanical', 'Boiler',\n",
      "       'Fuel Burning', 'Fuel Storage', 'Standpipe', 'Sprinkler', 'Fire Alarm',\n",
      "       'Equipment', 'Fire Suppression', 'Curb Cut', 'Other',\n",
      "       'Other Description', 'Applicant's First Name', 'Applicant's Last Name',\n",
      "       'Applicant Professional Title', 'Applicant License #',\n",
      "       'Professional Cert', 'Pre- Filing Date', 'Paid', 'Fully Paid',\n",
      "       'Assigned', 'Approved', 'Fully Permitted', 'Initial Cost',\n",
      "       'Total Est. Fee', 'Fee Status', 'Existing Zoning Sqft',\n",
      "       'Proposed Zoning Sqft', 'Horizontal Enlrgmt', 'Vertical Enlrgmt',\n",
      "       'Enlargement SQ Footage', 'Street Frontage', 'ExistingNo. of Stories',\n",
      "       'Proposed No. of Stories', 'Existing Height', 'Proposed Height',\n",
      "       'Existing Dwelling Units', 'Proposed Dwelling Units',\n",
      "       'Existing Occupancy', 'Proposed Occupancy', 'Site Fill', 'Zoning Dist1',\n",
      "       'Zoning Dist2', 'Zoning Dist3', 'Special District 1',\n",
      "       'Special District 2', 'Owner Type', 'Non-Profit', 'Owner's First Name',\n",
      "       'Owner's Last Name', 'Owner's Business Name', 'Owner's House Number',\n",
      "       'Owner'sHouse Street Name', 'City ', 'State', 'Zip', 'Owner'sPhone #',\n",
      "       'Job Description', 'DOBRunDate'],\n",
      "      dtype='object')\n",
      "<class 'pandas.core.frame.DataFrame'>\n",
      "RangeIndex: 12846 entries, 0 to 12845\n",
      "Data columns (total 82 columns):\n",
      "Job #                           12846 non-null int64\n",
      "Doc #                           12846 non-null int64\n",
      "Borough                         12846 non-null object\n",
      "House #                         12846 non-null object\n",
      "Street Name                     12846 non-null object\n",
      "Block                           12846 non-null int64\n",
      "Lot                             12846 non-null int64\n",
      "Bin #                           12846 non-null int64\n",
      "Job Type                        12846 non-null object\n",
      "Job Status                      12846 non-null object\n",
      "Job Status Descrp               12846 non-null object\n",
      "Latest Action Date              12846 non-null object\n",
      "Building Type                   12846 non-null object\n",
      "Community - Board               12846 non-null object\n",
      "Cluster                         0 non-null float64\n",
      "Landmarked                      2067 non-null object\n",
      "Adult Estab                     1 non-null object\n",
      "Loft Board                      65 non-null object\n",
      "City Owned                      1419 non-null object\n",
      "Little e                        365 non-null object\n",
      "PC Filed                        0 non-null float64\n",
      "eFiling Filed                   12846 non-null object\n",
      "Plumbing                        12846 non-null object\n",
      "Mechanical                      12846 non-null object\n",
      "Boiler                          12846 non-null object\n",
      "Fuel Burning                    12846 non-null object\n",
      "Fuel Storage                    12846 non-null object\n",
      "Standpipe                       12846 non-null object\n",
      "Sprinkler                       12846 non-null object\n",
      "Fire Alarm                      12846 non-null object\n",
      "Equipment                       12846 non-null object\n",
      "Fire Suppression                12846 non-null object\n",
      "Curb Cut                        12846 non-null object\n",
      "Other                           12846 non-null object\n",
      "Other Description               12846 non-null object\n",
      "Applicant's First Name          12846 non-null object\n",
      "Applicant's Last Name           12846 non-null object\n",
      "Applicant Professional Title    12846 non-null object\n",
      "Applicant License #             12846 non-null object\n",
      "Professional Cert               6908 non-null object\n",
      "Pre- Filing Date                12846 non-null object\n",
      "Paid                            11961 non-null object\n",
      "Fully Paid                      11963 non-null object\n",
      "Assigned                        3817 non-null object\n",
      "Approved                        4062 non-null object\n",
      "Fully Permitted                 1495 non-null object\n",
      "Initial Cost                    12846 non-null object\n",
      "Total Est. Fee                  12846 non-null object\n",
      "Fee Status                      12846 non-null object\n",
      "Existing Zoning Sqft            12846 non-null int64\n",
      "Proposed Zoning Sqft            12846 non-null int64\n",
      "Horizontal Enlrgmt              231 non-null object\n",
      "Vertical Enlrgmt                142 non-null object\n",
      "Enlargement SQ Footage          12846 non-null int64\n",
      "Street Frontage                 12846 non-null int64\n",
      "ExistingNo. of Stories          12846 non-null int64\n",
      "Proposed No. of Stories         12846 non-null int64\n",
      "Existing Height                 12846 non-null int64\n",
      "Proposed Height                 12846 non-null int64\n",
      "Existing Dwelling Units         12846 non-null object\n",
      "Proposed Dwelling Units         12846 non-null object\n",
      "Existing Occupancy              12846 non-null object\n",
      "Proposed Occupancy              12846 non-null object\n",
      "Site Fill                       8641 non-null object\n",
      "Zoning Dist1                    11263 non-null object\n",
      "Zoning Dist2                    1652 non-null object\n",
      "Zoning Dist3                    88 non-null object\n",
      "Special District 1              3062 non-null object\n",
      "Special District 2              848 non-null object\n",
      "Owner Type                      0 non-null float64\n",
      "Non-Profit                      971 non-null object\n",
      "Owner's First Name              12846 non-null object\n",
      "Owner's Last Name               12846 non-null object\n",
      "Owner's Business Name           12846 non-null object\n",
      "Owner's House Number            12846 non-null object\n",
      "Owner'sHouse Street Name        12846 non-null object\n",
      "City                            12846 non-null object\n",
      "State                           12846 non-null object\n",
      "Zip                             12846 non-null int64\n",
      "Owner'sPhone #                  12846 non-null int64\n",
      "Job Description                 12699 non-null object\n",
      "DOBRunDate                      12846 non-null object\n",
      "dtypes: float64(3), int64(15), object(64)\n",
      "memory usage: 8.0+ MB\n",
      "None\n"
     ]
    },
    {
     "name": "stderr",
     "output_type": "stream",
     "text": [
      "/Users/mnksmith/anaconda/envs/py36/lib/python3.6/site-packages/IPython/core/interactiveshell.py:2728: DtypeWarning: Columns (16) have mixed types. Specify dtype option on import or set low_memory=False.\n",
      "  interactivity=interactivity, compiler=compiler, result=result)\n"
     ]
    }
   ],
   "source": [
    "# Import pandas\n",
    "import pandas as pd\n",
    "from urllib.request import urlretrieve\n",
    "\n",
    "#url = 'https://data.cityofnewyork.us/resource/md7r-3zme.csv'\n",
    "#real url above, datacamp edited url below\n",
    "url = 'https://assets.datacamp.com/production/course_2023/datasets/dob_job_application_filings_subset.csv'\n",
    "\n",
    "urlretrieve(url, 'dc_dob_jafs.csv')\n",
    "\n",
    "# Read the file into a DataFrame: df\n",
    "df = pd.read_csv('dc_dob_jafs.csv')\n",
    "\n",
    "# Print the head of df\n",
    "print(df.head())\n",
    "\n",
    "# Print the tail of df\n",
    "print(df.tail())\n",
    "\n",
    "# Print the shape of df\n",
    "print(df.shape)\n",
    "\n",
    "# Print the columns of df\n",
    "print(df.columns)\n",
    "\n",
    "print(df.info())"
   ]
  },
  {
   "cell_type": "code",
   "execution_count": 37,
   "metadata": {
    "scrolled": true
   },
   "outputs": [
    {
     "name": "stdout",
     "output_type": "stream",
     "text": [
      "<class 'pandas.core.frame.DataFrame'>\n",
      "RangeIndex: 1000 entries, 0 to 999\n",
      "Data columns (total 63 columns):\n",
      "antenna                                1000 non-null object\n",
      "applicant_first_name                   1000 non-null object\n",
      "applicant_last_name                    1000 non-null object\n",
      "applicant_license                      1000 non-null object\n",
      "applicant_professional_title           1000 non-null object\n",
      "apt_condo_no_s                         54 non-null object\n",
      "bin                                    1000 non-null object\n",
      "bin_2                                  975 non-null object\n",
      "block                                  1000 non-null object\n",
      "borough                                1000 non-null object\n",
      "building_type                          1000 non-null object\n",
      "built_1_information_value              1 non-null object\n",
      "built_2_a_information_value            1 non-null object\n",
      "built_2_b_information_value            1 non-null object\n",
      "built_2_information_value              1 non-null object\n",
      "census_tract                           998 non-null object\n",
      "city                                   1000 non-null object\n",
      "commmunity_board                       1000 non-null object\n",
      "council_district                       998 non-null object\n",
      "curb_cut                               1000 non-null object\n",
      "exempt_from_nycecc                     1000 non-null object\n",
      "existing_dwelling_units                1000 non-null object\n",
      "existing_height                        1000 non-null object\n",
      "existing_stories                       1000 non-null object\n",
      "fence                                  1000 non-null object\n",
      "filing_representative_business_name    929 non-null object\n",
      "filing_representative_city             929 non-null object\n",
      "filing_representative_first_name       929 non-null object\n",
      "filing_representative_last_name        929 non-null object\n",
      "filing_representative_state            929 non-null object\n",
      "filing_representative_street_name      929 non-null object\n",
      "filing_representative_zip              929 non-null object\n",
      "filing_status                          1000 non-null object\n",
      "house_no                               1000 non-null object\n",
      "in_compliance_with_nycecc              1000 non-null object\n",
      "includes_permanent_removal             11 non-null object\n",
      "initial_cost                           1000 non-null object\n",
      "job_filing_number                      1000 non-null object\n",
      "latitude                               998 non-null object\n",
      "little_e                               959 non-null object\n",
      "longitude                              998 non-null object\n",
      "lot                                    1000 non-null object\n",
      "nta                                    998 non-null object\n",
      "owner_s_business_name                  1000 non-null object\n",
      "owner_s_street_name                    1000 non-null object\n",
      "plumbing_work_type                     1000 non-null object\n",
      "proposed_dwelling_units                1000 non-null object\n",
      "proposed_height                        1000 non-null object\n",
      "proposed_no_of_stories                 1000 non-null object\n",
      "request_legalization                   11 non-null object\n",
      "review_building_code                   1000 non-null object\n",
      "scaffold                               1000 non-null object\n",
      "shed                                   1000 non-null object\n",
      "sign                                   1000 non-null object\n",
      "special_inspection_agency_number       35 non-null object\n",
      "sprinkler_work_type                    1000 non-null object\n",
      "standpipe                              1000 non-null object\n",
      "state                                  1000 non-null object\n",
      "street_name                            1000 non-null object\n",
      "total_construction_floor_area          1000 non-null object\n",
      "unmapped_cco_street                    964 non-null object\n",
      "work_on_floor                          1000 non-null object\n",
      "zip                                    1000 non-null object\n",
      "dtypes: object(63)\n",
      "memory usage: 492.3+ KB\n",
      "None\n"
     ]
    }
   ],
   "source": [
    "import pandas as pd\n",
    "import requests\n",
    "\n",
    "url = 'https://data.cityofnewyork.us/resource/md7r-3zme.json'\n",
    "r = requests.get(url)\n",
    "\n",
    "data = r.json()\n",
    "df = pd.DataFrame(data)\n",
    "\n",
    "print(df.info())"
   ]
  },
  {
   "cell_type": "code",
   "execution_count": 41,
   "metadata": {
    "scrolled": true
   },
   "outputs": [
    {
     "name": "stdout",
     "output_type": "stream",
     "text": [
      "<class 'pandas.core.frame.DataFrame'>\n",
      "RangeIndex: 12846 entries, 0 to 12845\n",
      "Data columns (total 13 columns):\n",
      "Job #                      12846 non-null int64\n",
      "Doc #                      12846 non-null int64\n",
      "Borough                    12846 non-null object\n",
      "Initial Cost               12846 non-null object\n",
      "Total Est. Fee             12846 non-null object\n",
      "Existing Zoning Sqft       12846 non-null int64\n",
      "Proposed Zoning Sqft       12846 non-null int64\n",
      "Enlargement SQ Footage     12846 non-null int64\n",
      "Street Frontage            12846 non-null int64\n",
      "ExistingNo. of Stories     12846 non-null int64\n",
      "Proposed No. of Stories    12846 non-null int64\n",
      "Existing Height            12846 non-null int64\n",
      "Proposed Height            12846 non-null int64\n",
      "dtypes: int64(10), object(3)\n",
      "memory usage: 1.3+ MB\n",
      "None\n"
     ]
    }
   ],
   "source": [
    "df_subset = df[['Job #','Doc #','Borough','Initial Cost','Total Est. Fee','Existing Zoning Sqft','Proposed Zoning Sqft','Enlargement SQ Footage','Street Frontage','ExistingNo. of Stories','Proposed No. of Stories','Existing Height','Proposed Height']]\n",
    "\n",
    "#df_subset = df['Job #']\n",
    "print(df_subset.info())"
   ]
  },
  {
   "cell_type": "code",
   "execution_count": 42,
   "metadata": {},
   "outputs": [
    {
     "name": "stdout",
     "output_type": "stream",
     "text": [
      "0     $986.00\n",
      "1    $1144.00\n",
      "2     $522.50\n",
      "3     $225.00\n",
      "4     $389.50\n",
      "Name: Total Est. Fee, dtype: object\n",
      "0     986.0\n",
      "1    1144.0\n",
      "2     522.5\n",
      "3     225.0\n",
      "4     389.5\n",
      "Name: Total Est. Fee, dtype: float64\n"
     ]
    },
    {
     "name": "stderr",
     "output_type": "stream",
     "text": [
      "/Users/mnksmith/anaconda/envs/py36/lib/python3.6/site-packages/ipykernel_launcher.py:7: SettingWithCopyWarning: \n",
      "A value is trying to be set on a copy of a slice from a DataFrame.\n",
      "Try using .loc[row_indexer,col_indexer] = value instead\n",
      "\n",
      "See the caveats in the documentation: http://pandas.pydata.org/pandas-docs/stable/indexing.html#indexing-view-versus-copy\n",
      "  import sys\n",
      "/Users/mnksmith/anaconda/envs/py36/lib/python3.6/site-packages/ipykernel_launcher.py:8: SettingWithCopyWarning: \n",
      "A value is trying to be set on a copy of a slice from a DataFrame.\n",
      "Try using .loc[row_indexer,col_indexer] = value instead\n",
      "\n",
      "See the caveats in the documentation: http://pandas.pydata.org/pandas-docs/stable/indexing.html#indexing-view-versus-copy\n",
      "  \n"
     ]
    }
   ],
   "source": [
    "def remove_dollar(x):\n",
    "    x = x[1:]\n",
    "    x = float(x)\n",
    "    return x\n",
    "print(df_subset['Total Est. Fee'].head())\n",
    "print(df_subset['Total Est. Fee'].apply(remove_dollar).head())\n",
    "df_subset['Total Est. Fee'] = df_subset['Total Est. Fee'].apply(remove_dollar)\n",
    "df_subset['Initial Cost'] = df_subset['Initial Cost'].apply(remove_dollar)"
   ]
  },
  {
   "cell_type": "code",
   "execution_count": 43,
   "metadata": {},
   "outputs": [
    {
     "data": {
      "text/html": [
       "<div>\n",
       "<style scoped>\n",
       "    .dataframe tbody tr th:only-of-type {\n",
       "        vertical-align: middle;\n",
       "    }\n",
       "\n",
       "    .dataframe tbody tr th {\n",
       "        vertical-align: top;\n",
       "    }\n",
       "\n",
       "    .dataframe thead th {\n",
       "        text-align: right;\n",
       "    }\n",
       "</style>\n",
       "<table border=\"1\" class=\"dataframe\">\n",
       "  <thead>\n",
       "    <tr style=\"text-align: right;\">\n",
       "      <th></th>\n",
       "      <th>Job #</th>\n",
       "      <th>Doc #</th>\n",
       "      <th>Initial Cost</th>\n",
       "      <th>Total Est. Fee</th>\n",
       "      <th>Existing Zoning Sqft</th>\n",
       "      <th>Proposed Zoning Sqft</th>\n",
       "      <th>Enlargement SQ Footage</th>\n",
       "      <th>Street Frontage</th>\n",
       "      <th>ExistingNo. of Stories</th>\n",
       "      <th>Proposed No. of Stories</th>\n",
       "      <th>Existing Height</th>\n",
       "      <th>Proposed Height</th>\n",
       "    </tr>\n",
       "  </thead>\n",
       "  <tbody>\n",
       "    <tr>\n",
       "      <th>count</th>\n",
       "      <td>1.284600e+04</td>\n",
       "      <td>12846.000000</td>\n",
       "      <td>1.284600e+04</td>\n",
       "      <td>1.284600e+04</td>\n",
       "      <td>1.284600e+04</td>\n",
       "      <td>1.284600e+04</td>\n",
       "      <td>12846.000000</td>\n",
       "      <td>12846.000000</td>\n",
       "      <td>12846.000000</td>\n",
       "      <td>12846.000000</td>\n",
       "      <td>12846.000000</td>\n",
       "      <td>12846.000000</td>\n",
       "    </tr>\n",
       "    <tr>\n",
       "      <th>mean</th>\n",
       "      <td>2.426788e+08</td>\n",
       "      <td>1.162930</td>\n",
       "      <td>1.803139e+05</td>\n",
       "      <td>2.894909e+03</td>\n",
       "      <td>1.439973e+03</td>\n",
       "      <td>2.007286e+03</td>\n",
       "      <td>46.101432</td>\n",
       "      <td>3.069360</td>\n",
       "      <td>8.062354</td>\n",
       "      <td>8.144325</td>\n",
       "      <td>94.022809</td>\n",
       "      <td>94.917562</td>\n",
       "    </tr>\n",
       "    <tr>\n",
       "      <th>std</th>\n",
       "      <td>1.312507e+08</td>\n",
       "      <td>0.514937</td>\n",
       "      <td>7.961524e+06</td>\n",
       "      <td>1.213534e+05</td>\n",
       "      <td>3.860757e+04</td>\n",
       "      <td>4.081570e+04</td>\n",
       "      <td>784.216569</td>\n",
       "      <td>37.246034</td>\n",
       "      <td>11.874080</td>\n",
       "      <td>11.843492</td>\n",
       "      <td>146.917360</td>\n",
       "      <td>146.580666</td>\n",
       "    </tr>\n",
       "    <tr>\n",
       "      <th>min</th>\n",
       "      <td>1.036438e+08</td>\n",
       "      <td>1.000000</td>\n",
       "      <td>0.000000e+00</td>\n",
       "      <td>0.000000e+00</td>\n",
       "      <td>0.000000e+00</td>\n",
       "      <td>0.000000e+00</td>\n",
       "      <td>0.000000</td>\n",
       "      <td>0.000000</td>\n",
       "      <td>0.000000</td>\n",
       "      <td>0.000000</td>\n",
       "      <td>0.000000</td>\n",
       "      <td>0.000000</td>\n",
       "    </tr>\n",
       "    <tr>\n",
       "      <th>25%</th>\n",
       "      <td>1.216206e+08</td>\n",
       "      <td>1.000000</td>\n",
       "      <td>0.000000e+00</td>\n",
       "      <td>2.250000e+02</td>\n",
       "      <td>0.000000e+00</td>\n",
       "      <td>0.000000e+00</td>\n",
       "      <td>0.000000</td>\n",
       "      <td>0.000000</td>\n",
       "      <td>1.000000</td>\n",
       "      <td>2.000000</td>\n",
       "      <td>20.000000</td>\n",
       "      <td>21.000000</td>\n",
       "    </tr>\n",
       "    <tr>\n",
       "      <th>50%</th>\n",
       "      <td>2.202645e+08</td>\n",
       "      <td>1.000000</td>\n",
       "      <td>1.597500e+04</td>\n",
       "      <td>4.195000e+02</td>\n",
       "      <td>0.000000e+00</td>\n",
       "      <td>0.000000e+00</td>\n",
       "      <td>0.000000</td>\n",
       "      <td>0.000000</td>\n",
       "      <td>4.000000</td>\n",
       "      <td>4.000000</td>\n",
       "      <td>45.000000</td>\n",
       "      <td>45.000000</td>\n",
       "    </tr>\n",
       "    <tr>\n",
       "      <th>75%</th>\n",
       "      <td>3.208652e+08</td>\n",
       "      <td>1.000000</td>\n",
       "      <td>6.790500e+04</td>\n",
       "      <td>9.297000e+02</td>\n",
       "      <td>0.000000e+00</td>\n",
       "      <td>0.000000e+00</td>\n",
       "      <td>0.000000</td>\n",
       "      <td>0.000000</td>\n",
       "      <td>9.000000</td>\n",
       "      <td>9.000000</td>\n",
       "      <td>105.000000</td>\n",
       "      <td>107.000000</td>\n",
       "    </tr>\n",
       "    <tr>\n",
       "      <th>max</th>\n",
       "      <td>5.400246e+08</td>\n",
       "      <td>9.000000</td>\n",
       "      <td>9.003000e+08</td>\n",
       "      <td>1.014000e+07</td>\n",
       "      <td>2.873107e+06</td>\n",
       "      <td>2.873107e+06</td>\n",
       "      <td>50384.000000</td>\n",
       "      <td>3160.000000</td>\n",
       "      <td>102.000000</td>\n",
       "      <td>102.000000</td>\n",
       "      <td>4200.000000</td>\n",
       "      <td>4200.000000</td>\n",
       "    </tr>\n",
       "  </tbody>\n",
       "</table>\n",
       "</div>"
      ],
      "text/plain": [
       "              Job #         Doc #  Initial Cost  Total Est. Fee  \\\n",
       "count  1.284600e+04  12846.000000  1.284600e+04    1.284600e+04   \n",
       "mean   2.426788e+08      1.162930  1.803139e+05    2.894909e+03   \n",
       "std    1.312507e+08      0.514937  7.961524e+06    1.213534e+05   \n",
       "min    1.036438e+08      1.000000  0.000000e+00    0.000000e+00   \n",
       "25%    1.216206e+08      1.000000  0.000000e+00    2.250000e+02   \n",
       "50%    2.202645e+08      1.000000  1.597500e+04    4.195000e+02   \n",
       "75%    3.208652e+08      1.000000  6.790500e+04    9.297000e+02   \n",
       "max    5.400246e+08      9.000000  9.003000e+08    1.014000e+07   \n",
       "\n",
       "       Existing Zoning Sqft  Proposed Zoning Sqft  Enlargement SQ Footage  \\\n",
       "count          1.284600e+04          1.284600e+04            12846.000000   \n",
       "mean           1.439973e+03          2.007286e+03               46.101432   \n",
       "std            3.860757e+04          4.081570e+04              784.216569   \n",
       "min            0.000000e+00          0.000000e+00                0.000000   \n",
       "25%            0.000000e+00          0.000000e+00                0.000000   \n",
       "50%            0.000000e+00          0.000000e+00                0.000000   \n",
       "75%            0.000000e+00          0.000000e+00                0.000000   \n",
       "max            2.873107e+06          2.873107e+06            50384.000000   \n",
       "\n",
       "       Street Frontage  ExistingNo. of Stories  Proposed No. of Stories  \\\n",
       "count     12846.000000            12846.000000             12846.000000   \n",
       "mean          3.069360                8.062354                 8.144325   \n",
       "std          37.246034               11.874080                11.843492   \n",
       "min           0.000000                0.000000                 0.000000   \n",
       "25%           0.000000                1.000000                 2.000000   \n",
       "50%           0.000000                4.000000                 4.000000   \n",
       "75%           0.000000                9.000000                 9.000000   \n",
       "max        3160.000000              102.000000               102.000000   \n",
       "\n",
       "       Existing Height  Proposed Height  \n",
       "count     12846.000000     12846.000000  \n",
       "mean         94.022809        94.917562  \n",
       "std         146.917360       146.580666  \n",
       "min           0.000000         0.000000  \n",
       "25%          20.000000        21.000000  \n",
       "50%          45.000000        45.000000  \n",
       "75%         105.000000       107.000000  \n",
       "max        4200.000000      4200.000000  "
      ]
     },
     "execution_count": 43,
     "metadata": {},
     "output_type": "execute_result"
    }
   ],
   "source": [
    "df_subset.describe()"
   ]
  },
  {
   "cell_type": "code",
   "execution_count": 44,
   "metadata": {},
   "outputs": [
    {
     "name": "stdout",
     "output_type": "stream",
     "text": [
      "MANHATTAN        6310\n",
      "BROOKLYN         2866\n",
      "QUEENS           2121\n",
      "BRONX             974\n",
      "STATEN ISLAND     575\n",
      "Name: Borough, dtype: int64\n"
     ]
    }
   ],
   "source": [
    "# Print the value counts for 'Borough'\n",
    "print(df['Borough'].value_counts(dropna=False))"
   ]
  },
  {
   "cell_type": "code",
   "execution_count": 45,
   "metadata": {},
   "outputs": [
    {
     "data": {
      "text/plain": [
       "<matplotlib.axes._subplots.AxesSubplot at 0x11586b7b8>"
      ]
     },
     "execution_count": 45,
     "metadata": {},
     "output_type": "execute_result"
    },
    {
     "data": {
      "image/png": "[encoded data removed]",
      "text/plain": [
       "<matplotlib.figure.Figure at 0x1083e59b0>"
      ]
     },
     "metadata": {},
     "output_type": "display_data"
    }
   ],
   "source": [
    "# Import matplotlib.pyplot\n",
    "import matplotlib.pyplot as plt\n",
    "\n",
    "# Plot the histogram\n",
    "df_subset['Existing Zoning Sqft'].plot(kind='hist', rot=70, logx=True, logy=True)\n"
   ]
  },
  {
   "cell_type": "code",
   "execution_count": 46,
   "metadata": {},
   "outputs": [
    {
     "data": {
      "text/plain": [
       "<matplotlib.axes._subplots.AxesSubplot at 0x109ac6da0>"
      ]
     },
     "execution_count": 46,
     "metadata": {},
     "output_type": "execute_result"
    },
    {
     "data": {
      "image/png": "[encoded data removed]",
      "text/plain": [
       "<matplotlib.figure.Figure at 0x109300dd8>"
      ]
     },
     "metadata": {},
     "output_type": "display_data"
    }
   ],
   "source": [
    "df_subset.boxplot(column='Initial Cost', by='Borough', rot=90)"
   ]
  },
  {
   "cell_type": "code",
   "execution_count": 47,
   "metadata": {},
   "outputs": [
    {
     "data": {
      "text/plain": [
       "<matplotlib.axes._subplots.AxesSubplot at 0x109300e48>"
      ]
     },
     "execution_count": 47,
     "metadata": {},
     "output_type": "execute_result"
    },
    {
     "data": {
      "image/png": "[encoded data removed]",
      "text/plain": [
       "<matplotlib.figure.Figure at 0x10c0b14e0>"
      ]
     },
     "metadata": {},
     "output_type": "display_data"
    }
   ],
   "source": [
    "df_subset.plot(kind='scatter', x='Initial Cost', y='Total Est. Fee', rot=70)"
   ]
  },
  {
   "cell_type": "code",
   "execution_count": 48,
   "metadata": {},
   "outputs": [
    {
     "data": {
      "text/plain": [
       "<matplotlib.axes._subplots.AxesSubplot at 0x115c30cf8>"
      ]
     },
     "execution_count": 48,
     "metadata": {},
     "output_type": "execute_result"
    },
    {
     "data": {
      "image/png": "[encoded data removed]",
      "text/plain": [
       "<matplotlib.figure.Figure at 0x10980f358>"
      ]
     },
     "metadata": {},
     "output_type": "display_data"
    }
   ],
   "source": [
    "df_no_outliers = df_subset[df_subset['Total Est. Fee']<2000000]\n",
    "df_no_outliers.plot(kind='scatter', x='Initial Cost', y='Total Est. Fee', rot=70)"
   ]
  },
  {
   "cell_type": "markdown",
   "metadata": {},
   "source": [
    "# Tidy data"
   ]
  },
  {
   "cell_type": "code",
   "execution_count": 35,
   "metadata": {},
   "outputs": [],
   "source": [
    "url = 'https://assets.datacamp.com/production/course_2023/datasets/airquality.csv'\n",
    "urlretrieve(url, 'dc_airquality.csv')\n",
    "airquality = pd.read_csv('dc_airquality.csv')"
   ]
  },
  {
   "cell_type": "code",
   "execution_count": 51,
   "metadata": {},
   "outputs": [
    {
     "name": "stdout",
     "output_type": "stream",
     "text": [
      "   Ozone  Solar.R  Wind  Temp  Month  Day\n",
      "0   41.0    190.0   7.4    67      5    1\n",
      "1   36.0    118.0   8.0    72      5    2\n",
      "2   12.0    149.0  12.6    74      5    3\n",
      "3   18.0    313.0  11.5    62      5    4\n",
      "4    NaN      NaN  14.3    56      5    5\n",
      "   Month  Day measurement  reading\n",
      "0      5    1       Ozone     41.0\n",
      "1      5    2       Ozone     36.0\n",
      "2      5    3       Ozone     12.0\n",
      "3      5    4       Ozone     18.0\n",
      "4      5    5       Ozone      NaN\n"
     ]
    }
   ],
   "source": [
    "print(airquality.head())\n",
    "\n",
    "# Melt airquality: airquality_melt\n",
    "airquality_melt = pd.melt(airquality, id_vars=['Month', 'Day'], var_name='measurement', value_name='reading')\n",
    "\n",
    "print(airquality_melt.head())"
   ]
  },
  {
   "cell_type": "code",
   "execution_count": 52,
   "metadata": {},
   "outputs": [
    {
     "name": "stdout",
     "output_type": "stream",
     "text": [
      "measurement  Ozone  Solar.R  Temp  Wind\n",
      "Month Day                              \n",
      "5     1       41.0    190.0  67.0   7.4\n",
      "      2       36.0    118.0  72.0   8.0\n",
      "      3       12.0    149.0  74.0  12.6\n",
      "      4       18.0    313.0  62.0  11.5\n",
      "      5        NaN      NaN  56.0  14.3\n"
     ]
    }
   ],
   "source": [
    "# Pivot airquality_melt: airquality_pivot\n",
    "airquality_pivot = pd.pivot_table(airquality_melt, index=['Month', 'Day'], columns='measurement', values='reading')\n",
    "\n",
    "print(airquality_pivot.head())"
   ]
  },
  {
   "cell_type": "code",
   "execution_count": 53,
   "metadata": {},
   "outputs": [
    {
     "name": "stdout",
     "output_type": "stream",
     "text": [
      "MultiIndex(levels=[[5, 6, 7, 8, 9], [1, 2, 3, 4, 5, 6, 7, 8, 9, 10, 11, 12, 13, 14, 15, 16, 17, 18, 19, 20, 21, 22, 23, 24, 25, 26, 27, 28, 29, 30, 31]],\n",
      "           labels=[[0, 0, 0, 0, 0, 0, 0, 0, 0, 0, 0, 0, 0, 0, 0, 0, 0, 0, 0, 0, 0, 0, 0, 0, 0, 0, 0, 0, 0, 0, 0, 1, 1, 1, 1, 1, 1, 1, 1, 1, 1, 1, 1, 1, 1, 1, 1, 1, 1, 1, 1, 1, 1, 1, 1, 1, 1, 1, 1, 1, 1, 2, 2, 2, 2, 2, 2, 2, 2, 2, 2, 2, 2, 2, 2, 2, 2, 2, 2, 2, 2, 2, 2, 2, 2, 2, 2, 2, 2, 2, 2, 2, 3, 3, 3, 3, 3, 3, 3, 3, 3, 3, 3, 3, 3, 3, 3, 3, 3, 3, 3, 3, 3, 3, 3, 3, 3, 3, 3, 3, 3, 3, 3, 4, 4, 4, 4, 4, 4, 4, 4, 4, 4, 4, 4, 4, 4, 4, 4, 4, 4, 4, 4, 4, 4, 4, 4, 4, 4, 4, 4, 4, 4], [0, 1, 2, 3, 4, 5, 6, 7, 8, 9, 10, 11, 12, 13, 14, 15, 16, 17, 18, 19, 20, 21, 22, 23, 24, 25, 26, 27, 28, 29, 30, 0, 1, 2, 3, 4, 5, 6, 7, 8, 9, 10, 11, 12, 13, 14, 15, 16, 17, 18, 19, 20, 21, 22, 23, 24, 25, 26, 27, 28, 29, 0, 1, 2, 3, 4, 5, 6, 7, 8, 9, 10, 11, 12, 13, 14, 15, 16, 17, 18, 19, 20, 21, 22, 23, 24, 25, 26, 27, 28, 29, 30, 0, 1, 2, 3, 4, 5, 6, 7, 8, 9, 10, 11, 12, 13, 14, 15, 16, 17, 18, 19, 20, 21, 22, 23, 24, 25, 26, 27, 28, 29, 30, 0, 1, 2, 3, 4, 5, 6, 7, 8, 9, 10, 11, 12, 13, 14, 15, 16, 17, 18, 19, 20, 21, 22, 23, 24, 25, 26, 27, 28, 29]],\n",
      "           names=['Month', 'Day'])\n",
      "RangeIndex(start=0, stop=153, step=1)\n",
      "measurement  Month  Day  Ozone  Solar.R  Temp  Wind\n",
      "0                5    1   41.0    190.0  67.0   7.4\n",
      "1                5    2   36.0    118.0  72.0   8.0\n",
      "2                5    3   12.0    149.0  74.0  12.6\n",
      "3                5    4   18.0    313.0  62.0  11.5\n",
      "4                5    5    NaN      NaN  56.0  14.3\n"
     ]
    }
   ],
   "source": [
    "# Print the index of airquality_pivot\n",
    "print(airquality_pivot.index)\n",
    "\n",
    "# Reset the index of airquality_pivot: airquality_pivot_reset\n",
    "airquality_pivot_reset = airquality_pivot.reset_index()\n",
    "\n",
    "# Print the new index of airquality_pivot_reset\n",
    "print(airquality_pivot_reset.index)\n",
    "\n",
    "print(airquality_pivot_reset.head())"
   ]
  },
  {
   "cell_type": "code",
   "execution_count": 54,
   "metadata": {},
   "outputs": [
    {
     "name": "stdout",
     "output_type": "stream",
     "text": [
      "  country  year variable  value gender age_group\n",
      "0      AD  2000     m014    0.0      m       014\n",
      "1      AE  2000     m014    2.0      m       014\n",
      "2      AF  2000     m014   52.0      m       014\n",
      "3      AG  2000     m014    0.0      m       014\n",
      "4      AL  2000     m014    2.0      m       014\n"
     ]
    }
   ],
   "source": [
    "url = 'https://assets.datacamp.com/production/course_2023/datasets/tb.csv'\n",
    "urlretrieve(url, 'dc_tuberculosis.csv')\n",
    "tb = pd.read_csv('dc_tuberculosis.csv')\n",
    "\n",
    "# Melt tb: tb_melt\n",
    "tb_melt = pd.melt(tb, id_vars=['country', 'year'])\n",
    "\n",
    "# Create the 'gender' column\n",
    "tb_melt['gender'] = tb_melt.variable.str[0]\n",
    "\n",
    "# Create the 'age_group' column\n",
    "tb_melt['age_group'] = tb_melt.variable.str[1:]\n",
    "\n",
    "# Print the head of tb_melt\n",
    "print(tb_melt.head())"
   ]
  },
  {
   "cell_type": "code",
   "execution_count": 94,
   "metadata": {},
   "outputs": [
    {
     "name": "stdout",
     "output_type": "stream",
     "text": [
      "         Date  Day  type_country  counts        str_split   type country\n",
      "0    1/5/2015  289  Cases_Guinea  2776.0  [Cases, Guinea]  Cases  Guinea\n",
      "1    1/4/2015  288  Cases_Guinea  2775.0  [Cases, Guinea]  Cases  Guinea\n",
      "2    1/3/2015  287  Cases_Guinea  2769.0  [Cases, Guinea]  Cases  Guinea\n",
      "3    1/2/2015  286  Cases_Guinea     NaN  [Cases, Guinea]  Cases  Guinea\n",
      "4  12/31/2014  284  Cases_Guinea  2730.0  [Cases, Guinea]  Cases  Guinea\n"
     ]
    }
   ],
   "source": [
    "url = 'https://assets.datacamp.com/production/course_2023/datasets/ebola.csv'\n",
    "urlretrieve(url, 'dc_ebola.csv')\n",
    "ebola = pd.read_csv('dc_ebola.csv')\n",
    "\n",
    "# Melt ebola: ebola_melt\n",
    "ebola_melt = pd.melt(ebola, id_vars=['Date', 'Day'], var_name='type_country', value_name='counts')\n",
    "\n",
    "# Create the 'str_split' column\n",
    "ebola_melt['str_split'] = ebola_melt.type_country.str.split('_')\n",
    "\n",
    "# Create the 'type' column\n",
    "ebola_melt['type'] = ebola_melt['str_split'].str.get(0)\n",
    "\n",
    "# Create the 'country' column\n",
    "ebola_melt['country'] = ebola_melt['str_split'].str.get(1)\n",
    "\n",
    "# Print the head of ebola_melt\n",
    "print(ebola_melt.head())"
   ]
  },
  {
   "cell_type": "code",
   "execution_count": 61,
   "metadata": {},
   "outputs": [],
   "source": [
    "url = 'https://assets.datacamp.com/production/course_2023/datasets/nyc_uber_2014.csv'\n",
    "urlretrieve(url, 'dc_uber.csv')\n",
    "uber = pd.read_csv('dc_uber.csv')\n",
    "uber1 = uber[uber['Date/Time'].str.contains('4/1/2014')]\n",
    "uber2 = uber[uber['Date/Time'].str.contains('5/1/2014')]\n",
    "uber3 = uber[uber['Date/Time'].str.contains('6/1/2014')]\n",
    "uber1.to_csv('dc_uber_1.csv')\n",
    "uber2.to_csv('dc_uber_2.csv')\n",
    "uber3.to_csv('dc_uber_3.csv')"
   ]
  },
  {
   "cell_type": "code",
   "execution_count": 59,
   "metadata": {},
   "outputs": [
    {
     "name": "stdout",
     "output_type": "stream",
     "text": [
      "(297, 5)\n",
      "   Unnamed: 0         Date/Time      Lat      Lon    Base\n",
      "0           0  4/1/2014 0:11:00  40.7690 -73.9549  B02512\n",
      "1           1  4/1/2014 0:17:00  40.7267 -74.0345  B02512\n",
      "2           2  4/1/2014 0:21:00  40.7316 -73.9873  B02512\n",
      "3           3  4/1/2014 0:28:00  40.7588 -73.9776  B02512\n",
      "4           4  4/1/2014 0:33:00  40.7594 -73.9722  B02512\n"
     ]
    }
   ],
   "source": [
    "# Concatenate uber1, uber2, and uber3: row_concat\n",
    "row_concat = pd.concat([uber1,uber2,uber3])\n",
    "\n",
    "# Print the shape of row_concat\n",
    "print(row_concat.shape)\n",
    "\n",
    "# Print the head of row_concat\n",
    "print(row_concat.head())"
   ]
  },
  {
   "cell_type": "code",
   "execution_count": 62,
   "metadata": {},
   "outputs": [
    {
     "name": "stdout",
     "output_type": "stream",
     "text": [
      "['dc_uber_1.csv', 'dc_uber_2.csv', 'dc_uber_3.csv']\n",
      "   Unnamed: 0  Unnamed: 0.1         Date/Time      Lat      Lon    Base\n",
      "0          99             0  5/1/2014 0:02:00  40.7521 -73.9914  B02512\n",
      "1         100             1  5/1/2014 0:06:00  40.6965 -73.9715  B02512\n",
      "2         101             2  5/1/2014 0:15:00  40.7464 -73.9838  B02512\n",
      "3         102             3  5/1/2014 0:17:00  40.7463 -74.0011  B02512\n",
      "4         103             4  5/1/2014 0:17:00  40.7594 -73.9734  B02512\n"
     ]
    }
   ],
   "source": [
    "# Import necessary modules\n",
    "import glob\n",
    "import pandas as pd\n",
    "\n",
    "# Write the pattern: pattern\n",
    "pattern = 'dc_uber_*.csv'\n",
    "\n",
    "# Save all file matches: csv_files\n",
    "csv_files = glob.glob(pattern)\n",
    "\n",
    "# Print the file names\n",
    "print(csv_files)\n",
    "\n",
    "# Load the second file into a DataFrame: csv2\n",
    "csv2 = pd.read_csv(csv_files[1])\n",
    "\n",
    "# Print the head of csv2\n",
    "print(csv2.head())"
   ]
  },
  {
   "cell_type": "code",
   "execution_count": 63,
   "metadata": {},
   "outputs": [
    {
     "name": "stdout",
     "output_type": "stream",
     "text": [
      "(297, 6)\n",
      "   Unnamed: 0  Unnamed: 0.1         Date/Time      Lat      Lon    Base\n",
      "0           0             0  4/1/2014 0:11:00  40.7690 -73.9549  B02512\n",
      "1           1             1  4/1/2014 0:17:00  40.7267 -74.0345  B02512\n",
      "2           2             2  4/1/2014 0:21:00  40.7316 -73.9873  B02512\n",
      "3           3             3  4/1/2014 0:28:00  40.7588 -73.9776  B02512\n",
      "4           4             4  4/1/2014 0:33:00  40.7594 -73.9722  B02512\n"
     ]
    }
   ],
   "source": [
    "# Create an empty list: frames\n",
    "frames = []\n",
    "\n",
    "#  Iterate over csv_files\n",
    "for csv in csv_files:\n",
    "\n",
    "    #  Read csv into a DataFrame: df\n",
    "    df = pd.read_csv(csv)\n",
    "    \n",
    "    # Append df to frames\n",
    "    frames.append(df)\n",
    "\n",
    "# Concatenate frames into a single DataFrame: uber\n",
    "uber = pd.concat(frames)\n",
    "\n",
    "# Print the shape of uber\n",
    "print(uber.shape)\n",
    "\n",
    "# Print the head of uber\n",
    "print(uber.head())"
   ]
  },
  {
   "cell_type": "markdown",
   "metadata": {},
   "source": [
    "# Data types\n",
    "## Convert"
   ]
  },
  {
   "cell_type": "code",
   "execution_count": 64,
   "metadata": {},
   "outputs": [
    {
     "name": "stdout",
     "output_type": "stream",
     "text": [
      "<class 'pandas.core.frame.DataFrame'>\n",
      "RangeIndex: 244 entries, 0 to 243\n",
      "Data columns (total 7 columns):\n",
      "total_bill    244 non-null float64\n",
      "tip           244 non-null float64\n",
      "sex           244 non-null category\n",
      "smoker        244 non-null category\n",
      "day           244 non-null object\n",
      "time          244 non-null object\n",
      "size          244 non-null int64\n",
      "dtypes: category(2), float64(2), int64(1), object(2)\n",
      "memory usage: 10.3+ KB\n",
      "None\n"
     ]
    }
   ],
   "source": [
    "url = 'https://assets.datacamp.com/production/course_2023/datasets/tips.csv'\n",
    "urlretrieve(url, 'dc_tips.csv')\n",
    "tips = pd.read_csv('dc_tips.csv')\n",
    "\n",
    "# Convert the sex column to type 'category'\n",
    "tips.sex = tips.sex.astype('category')\n",
    "\n",
    "# Convert the smoker column to type 'category'\n",
    "tips.smoker = tips.smoker.astype('category')\n",
    "\n",
    "# Print the info of tips\n",
    "print(tips.info())"
   ]
  },
  {
   "cell_type": "code",
   "execution_count": 65,
   "metadata": {},
   "outputs": [
    {
     "name": "stdout",
     "output_type": "stream",
     "text": [
      "<class 'pandas.core.frame.DataFrame'>\n",
      "RangeIndex: 244 entries, 0 to 243\n",
      "Data columns (total 7 columns):\n",
      "total_bill    244 non-null float64\n",
      "tip           244 non-null float64\n",
      "sex           244 non-null category\n",
      "smoker        244 non-null category\n",
      "day           244 non-null object\n",
      "time          244 non-null object\n",
      "size          244 non-null int64\n",
      "dtypes: category(2), float64(2), int64(1), object(2)\n",
      "memory usage: 10.3+ KB\n",
      "None\n"
     ]
    }
   ],
   "source": [
    "# Convert 'total_bill' to a numeric dtype\n",
    "tips['total_bill'] = pd.to_numeric(tips['total_bill'], errors='coerce')\n",
    "\n",
    "# Convert 'tip' to a numeric dtype\n",
    "tips['tip'] = pd.to_numeric(tips['tip'], errors='coerce')\n",
    "\n",
    "# Print the info of tips\n",
    "print(tips.info())"
   ]
  },
  {
   "cell_type": "markdown",
   "metadata": {},
   "source": [
    "## Reg-ex"
   ]
  },
  {
   "cell_type": "code",
   "execution_count": 66,
   "metadata": {},
   "outputs": [
    {
     "name": "stdout",
     "output_type": "stream",
     "text": [
      "True\n",
      "False\n"
     ]
    }
   ],
   "source": [
    "# Import the regular expression module\n",
    "import re\n",
    "\n",
    "# Compile the pattern: prog\n",
    "prog = re.compile('\\d{3}-\\d{3}-\\d{4}')\n",
    "\n",
    "# See if the pattern matches\n",
    "result = prog.match('123-456-7890')\n",
    "print(bool(result))\n",
    "\n",
    "# See if the pattern matches\n",
    "result2 = prog.match('1123-456-7890')\n",
    "print(bool(result2))"
   ]
  },
  {
   "cell_type": "code",
   "execution_count": 67,
   "metadata": {},
   "outputs": [
    {
     "name": "stdout",
     "output_type": "stream",
     "text": [
      "['10', '1']\n"
     ]
    }
   ],
   "source": [
    "# Find the numeric values: matches\n",
    "matches = re.findall('\\d+', 'the recipe calls for 10 strawberries and 1 banana')\n",
    "\n",
    "# Print the matches\n",
    "print(matches)"
   ]
  },
  {
   "cell_type": "code",
   "execution_count": 68,
   "metadata": {},
   "outputs": [
    {
     "name": "stdout",
     "output_type": "stream",
     "text": [
      "True\n",
      "True\n",
      "True\n"
     ]
    }
   ],
   "source": [
    "pattern1 = bool(re.match(pattern='\\d{3}-\\d{3}-\\d{4}', string='123-456-7890'))\n",
    "print(pattern1)\n",
    "\n",
    "pattern2 = bool(re.match(pattern='\\$\\d*\\.\\d{2}', string='$123.45'))\n",
    "print(pattern2)\n",
    "\n",
    "pattern3 = bool(re.match(pattern='[A-Z]\\w*', string='Australia'))\n",
    "print(pattern3)"
   ]
  },
  {
   "cell_type": "markdown",
   "metadata": {},
   "source": [
    "## Functions"
   ]
  },
  {
   "cell_type": "code",
   "execution_count": 69,
   "metadata": {},
   "outputs": [
    {
     "name": "stdout",
     "output_type": "stream",
     "text": [
      "   total_bill   tip     sex smoker  day    time  size sex_recode\n",
      "0       16.99  1.01  Female     No  Sun  Dinner     2          0\n",
      "1       10.34  1.66    Male     No  Sun  Dinner     3          1\n",
      "2       21.01  3.50    Male     No  Sun  Dinner     3          1\n",
      "3       23.68  3.31    Male     No  Sun  Dinner     2          1\n",
      "4       24.59  3.61  Female     No  Sun  Dinner     4          0\n"
     ]
    }
   ],
   "source": [
    "# Define recode_sex()\n",
    "def recode_sex(sex_value):\n",
    "\n",
    "    # Return 1 if sex_value is 'Male'\n",
    "    if sex_value == 'Male':\n",
    "        return 1\n",
    "    \n",
    "    # Return 0 if sex_value is 'Female'    \n",
    "    elif sex_value == 'Female':\n",
    "        return 0\n",
    "    \n",
    "    # Return np.nan    \n",
    "    else:\n",
    "        return np.nan\n",
    "\n",
    "# Apply the function to the sex column\n",
    "tips['sex_recode'] = tips.sex.apply(recode_sex)\n",
    "\n",
    "# Print the first five rows of tips\n",
    "print(tips.head())"
   ]
  },
  {
   "cell_type": "code",
   "execution_count": 84,
   "metadata": {},
   "outputs": [
    {
     "name": "stdout",
     "output_type": "stream",
     "text": [
      "   total_bill   tip     sex smoker  day    time  size sex_recode total_dollar  \\\n",
      "0       16.99  1.01  Female     No  Sun  Dinner     2          0       $16.99   \n",
      "1       10.34  1.66    Male     No  Sun  Dinner     3          1       $10.34   \n",
      "2       21.01  3.50    Male     No  Sun  Dinner     3          1       $21.01   \n",
      "3       23.68  3.31    Male     No  Sun  Dinner     2          1       $23.68   \n",
      "4       24.59  3.61  Female     No  Sun  Dinner     4          0       $24.59   \n",
      "\n",
      "  total_dollar_replace total_dollar_re  \n",
      "0                16.99           16.99  \n",
      "1                10.34           10.34  \n",
      "2                21.01           21.01  \n",
      "3                23.68           23.68  \n",
      "4                24.59           24.59  \n"
     ]
    }
   ],
   "source": [
    "tips['total_dollar'] = '$'+tips['total_bill'].astype(str)\n",
    "\n",
    "# Write the lambda function using replace\n",
    "tips['total_dollar_replace'] = tips.total_dollar.apply(lambda x: x.replace('$', ''))\n",
    "\n",
    "# Write the lambda function using regular expressions\n",
    "tips['total_dollar_re'] = tips.total_dollar.apply(lambda x: re.findall('\\d+\\.\\d+', x)[0])\n",
    "\n",
    "# Print the head of tips\n",
    "print(tips.head())"
   ]
  },
  {
   "cell_type": "markdown",
   "metadata": {},
   "source": [
    "# Missing data"
   ]
  },
  {
   "cell_type": "code",
   "execution_count": 85,
   "metadata": {},
   "outputs": [
    {
     "name": "stdout",
     "output_type": "stream",
     "text": [
      "<class 'pandas.core.frame.DataFrame'>\n",
      "RangeIndex: 153 entries, 0 to 152\n",
      "Data columns (total 6 columns):\n",
      "Ozone      153 non-null float64\n",
      "Solar.R    146 non-null float64\n",
      "Wind       153 non-null float64\n",
      "Temp       153 non-null int64\n",
      "Month      153 non-null int64\n",
      "Day        153 non-null int64\n",
      "dtypes: float64(3), int64(3)\n",
      "memory usage: 7.2 KB\n",
      "None\n"
     ]
    }
   ],
   "source": [
    "# Calculate the mean of the Ozone column: oz_mean\n",
    "oz_mean = airquality.Ozone.mean()\n",
    "\n",
    "# Replace all the missing values in the Ozone column with the mean\n",
    "airquality['Ozone'] = airquality.Ozone.fillna(oz_mean)\n",
    "\n",
    "# Print the info of airquality\n",
    "print(airquality.info())"
   ]
  },
  {
   "cell_type": "markdown",
   "metadata": {},
   "source": [
    "# Asserts"
   ]
  },
  {
   "cell_type": "code",
   "execution_count": 95,
   "metadata": {
    "scrolled": true
   },
   "outputs": [
    {
     "ename": "AssertionError",
     "evalue": "",
     "output_type": "error",
     "traceback": [
      "\u001b[0;31m---------------------------------------------------------------------------\u001b[0m",
      "\u001b[0;31mAssertionError\u001b[0m                            Traceback (most recent call last)",
      "\u001b[0;32m<ipython-input-95-ec3bdc9a9cca>\u001b[0m in \u001b[0;36m<module>\u001b[0;34m()\u001b[0m\n\u001b[1;32m      1\u001b[0m \u001b[0;31m# Assert that there are no missing values\u001b[0m\u001b[0;34m\u001b[0m\u001b[0;34m\u001b[0m\u001b[0m\n\u001b[0;32m----> 2\u001b[0;31m \u001b[0;32massert\u001b[0m \u001b[0mebola\u001b[0m\u001b[0;34m.\u001b[0m\u001b[0mnotnull\u001b[0m\u001b[0;34m(\u001b[0m\u001b[0;34m)\u001b[0m\u001b[0;34m.\u001b[0m\u001b[0mall\u001b[0m\u001b[0;34m(\u001b[0m\u001b[0;34m)\u001b[0m\u001b[0;34m.\u001b[0m\u001b[0mall\u001b[0m\u001b[0;34m(\u001b[0m\u001b[0;34m)\u001b[0m\u001b[0;34m\u001b[0m\u001b[0m\n\u001b[0m",
      "\u001b[0;31mAssertionError\u001b[0m: "
     ]
    }
   ],
   "source": [
    "# Assert that there are no missing values\n",
    "assert ebola.notnull().all().all()"
   ]
  },
  {
   "cell_type": "code",
   "execution_count": 96,
   "metadata": {},
   "outputs": [
    {
     "name": "stdout",
     "output_type": "stream",
     "text": [
      "         Date  Day  Cases_Guinea  Cases_Liberia  Cases_SierraLeone  \\\n",
      "0    1/5/2015  289        2776.0            0.0            10030.0   \n",
      "1    1/4/2015  288        2775.0            0.0             9780.0   \n",
      "2    1/3/2015  287        2769.0         8166.0             9722.0   \n",
      "3    1/2/2015  286           0.0         8157.0                0.0   \n",
      "4  12/31/2014  284        2730.0         8115.0             9633.0   \n",
      "\n",
      "   Cases_Nigeria  Cases_Senegal  Cases_UnitedStates  Cases_Spain  Cases_Mali  \\\n",
      "0            0.0            0.0                 0.0          0.0         0.0   \n",
      "1            0.0            0.0                 0.0          0.0         0.0   \n",
      "2            0.0            0.0                 0.0          0.0         0.0   \n",
      "3            0.0            0.0                 0.0          0.0         0.0   \n",
      "4            0.0            0.0                 0.0          0.0         0.0   \n",
      "\n",
      "   Deaths_Guinea  Deaths_Liberia  Deaths_SierraLeone  Deaths_Nigeria  \\\n",
      "0         1786.0             0.0              2977.0             0.0   \n",
      "1         1781.0             0.0              2943.0             0.0   \n",
      "2         1767.0          3496.0              2915.0             0.0   \n",
      "3            0.0          3496.0                 0.0             0.0   \n",
      "4         1739.0          3471.0              2827.0             0.0   \n",
      "\n",
      "   Deaths_Senegal  Deaths_UnitedStates  Deaths_Spain  Deaths_Mali  \n",
      "0             0.0                  0.0           0.0          0.0  \n",
      "1             0.0                  0.0           0.0          0.0  \n",
      "2             0.0                  0.0           0.0          0.0  \n",
      "3             0.0                  0.0           0.0          0.0  \n",
      "4             0.0                  0.0           0.0          0.0  \n"
     ]
    }
   ],
   "source": [
    "ebola = ebola.fillna(0)\n",
    "print(ebola.head())"
   ]
  },
  {
   "cell_type": "code",
   "execution_count": 97,
   "metadata": {},
   "outputs": [],
   "source": [
    "# Assert that there are no missing values\n",
    "assert ebola.notnull().all().all()\n",
    "\n",
    "# Assert that all values are >= 0\n",
    "assert (ebola>=0).all().all()"
   ]
  },
  {
   "cell_type": "markdown",
   "metadata": {},
   "source": [
    "# Example: Gapminder data"
   ]
  },
  {
   "cell_type": "code",
   "execution_count": 128,
   "metadata": {},
   "outputs": [
    {
     "name": "stdout",
     "output_type": "stream",
     "text": [
      "              Life expectancy   1800   1801   1802   1803   1804   1805  \\\n",
      "0                    Abkhazia    NaN    NaN    NaN    NaN    NaN    NaN   \n",
      "1                 Afghanistan  28.21  28.20  28.19  28.18  28.17  28.16   \n",
      "2       Akrotiri and Dhekelia    NaN    NaN    NaN    NaN    NaN    NaN   \n",
      "3                     Albania  35.40  35.40  35.40  35.40  35.40  35.40   \n",
      "4                     Algeria  28.82  28.82  28.82  28.82  28.82  28.82   \n",
      "5              American Samoa    NaN    NaN    NaN    NaN    NaN    NaN   \n",
      "6                     Andorra    NaN    NaN    NaN    NaN    NaN    NaN   \n",
      "7                      Angola  26.98  26.98  26.98  26.98  26.98  26.98   \n",
      "8                    Anguilla    NaN    NaN    NaN    NaN    NaN    NaN   \n",
      "9         Antigua and Barbuda  33.54  33.54  33.54  33.54  33.54  33.54   \n",
      "10                  Argentina  33.20  33.20  33.20  33.20  33.20  33.20   \n",
      "11                    Armenia  34.00  34.00  34.00  34.00  34.00  34.00   \n",
      "12                      Aruba  34.42  34.42  34.42  34.42  34.42  34.42   \n",
      "13                  Australia  34.05  34.05  34.05  34.05  34.05  34.05   \n",
      "14                    Austria  34.40  34.40  34.40  34.40  34.40  34.40   \n",
      "15                 Azerbaijan  29.17  29.17  29.17  29.17  29.17  29.17   \n",
      "16                    Bahamas  35.18  35.18  35.18  35.18  35.18  35.18   \n",
      "17                    Bahrain  30.30  30.30  30.30  30.30  30.30  30.30   \n",
      "18                 Bangladesh  25.50  25.50  25.50  25.50  25.50  25.50   \n",
      "19                   Barbados  32.12  32.12  32.12  32.12  32.12  32.12   \n",
      "20                    Belarus  36.20  36.20  36.20  36.20  36.20  36.20   \n",
      "21                    Belgium  40.00  40.01  40.02  40.02  40.03  40.04   \n",
      "22                     Belize  26.50  26.50  26.50  26.50  26.50  26.50   \n",
      "23                      Benin  31.00  31.00  31.00  31.00  31.00  31.00   \n",
      "24                    Bermuda    NaN    NaN    NaN    NaN    NaN    NaN   \n",
      "25                     Bhutan  28.80  28.80  28.80  28.80  28.80  28.80   \n",
      "26                    Bolivia  33.00  33.00  33.00  33.00  33.00  33.00   \n",
      "27     Bosnia and Herzegovina  35.10  35.10  35.10  35.10  35.10  35.10   \n",
      "28                   Botswana  33.60  33.60  33.60  33.60  33.60  33.60   \n",
      "29                     Brazil  32.00  32.00  32.00  32.00  32.00  32.00   \n",
      "..                        ...    ...    ...    ...    ...    ...    ...   \n",
      "230       Trinidad and Tobago  32.90  32.90  32.90  32.90  32.90  32.90   \n",
      "231                   Tunisia  28.80  28.80  28.80  28.80  28.80  28.80   \n",
      "232                    Turkey  35.00  35.00  35.00  35.00  35.00  35.00   \n",
      "233              Turkmenistan  24.00  24.00  24.00  24.00  24.00  24.00   \n",
      "234  Turks and Caicos Islands    NaN    NaN    NaN    NaN    NaN    NaN   \n",
      "235                    Tuvalu    NaN    NaN    NaN    NaN    NaN    NaN   \n",
      "236                    Uganda  25.30  25.30  25.30  25.30  25.30  25.30   \n",
      "237                   Ukraine  36.60  36.60  36.60  36.60  36.60  36.60   \n",
      "238      United Arab Emirates  30.70  30.70  30.70  30.70  30.70  30.70   \n",
      "239            United Kingdom  38.65  37.35  38.62  37.32  41.44  42.32   \n",
      "240             United States  39.41  39.41  39.41  39.41  39.41  39.41   \n",
      "241                   Uruguay  32.90  32.90  32.90  32.90  32.90  32.90   \n",
      "242                      USSR    NaN    NaN    NaN    NaN    NaN    NaN   \n",
      "243                Uzbekistan  26.93  26.93  26.93  26.93  26.93  26.93   \n",
      "244          Wallis et Futuna    NaN    NaN    NaN    NaN    NaN    NaN   \n",
      "245                   Vanuatu  24.30  24.30  24.30  24.30  24.30  24.30   \n",
      "246                 Venezuela  32.20  32.20  32.20  32.20  32.20  32.20   \n",
      "247        West Bank and Gaza  32.10  32.10  32.10  32.10  32.10  32.10   \n",
      "248              West Germany    NaN    NaN    NaN    NaN    NaN    NaN   \n",
      "249            Western Sahara  34.75  34.75  34.75  34.75  34.75  34.75   \n",
      "250                   Vietnam  32.00  32.00  32.00  32.00  32.00  32.00   \n",
      "251     Virgin Islands (U.S.)  33.40  33.40  33.40  33.40  33.40  33.40   \n",
      "252      North Yemen (former)    NaN    NaN    NaN    NaN    NaN    NaN   \n",
      "253      South Yemen (former)    NaN    NaN    NaN    NaN    NaN    NaN   \n",
      "254                     Yemen  23.39  23.39  23.39  23.39  23.39  23.39   \n",
      "255                Yugoslavia    NaN    NaN    NaN    NaN    NaN    NaN   \n",
      "256                    Zambia  32.60  32.60  32.60  32.60  32.60  32.60   \n",
      "257                  Zimbabwe  33.70  33.70  33.70  33.70  33.70  33.70   \n",
      "258                     Åland    NaN    NaN    NaN    NaN    NaN    NaN   \n",
      "259               South Sudan  26.67  26.67  26.67  26.67  26.67  26.67   \n",
      "\n",
      "      1806   1807   1808  ...     1890   1891   1892   1893   1894   1895  \\\n",
      "0      NaN    NaN    NaN  ...      NaN    NaN    NaN    NaN    NaN    NaN   \n",
      "1    28.15  28.14  28.13  ...    27.29  27.28  27.27  27.26  27.25  27.24   \n",
      "2      NaN    NaN    NaN  ...      NaN    NaN    NaN    NaN    NaN    NaN   \n",
      "3    35.40  35.40  35.40  ...    35.40  35.40  35.40  35.40  35.40  35.40   \n",
      "4    28.82  28.82  28.82  ...    28.82  28.82  28.82  28.82  28.82  28.82   \n",
      "5      NaN    NaN    NaN  ...      NaN    NaN    NaN    NaN    NaN    NaN   \n",
      "6      NaN    NaN    NaN  ...      NaN    NaN    NaN    NaN    NaN    NaN   \n",
      "7    26.98  26.98  26.98  ...    26.98  26.98  26.98  26.98  26.98  26.98   \n",
      "8      NaN    NaN    NaN  ...      NaN    NaN    NaN    NaN    NaN    NaN   \n",
      "9    33.54  33.54  33.54  ...    33.54  33.54  33.54  33.54  33.54  33.54   \n",
      "10   33.20  33.20  33.20  ...    34.00  33.86  33.72  33.58  33.44  33.30   \n",
      "11   34.00  34.00  34.00  ...    35.00  35.20  35.40  35.60  35.80  36.00   \n",
      "12   34.42  34.42  34.42  ...    34.42  34.42  34.42  34.42  34.42  34.42   \n",
      "13   34.05  34.05  34.05  ...    44.63  45.16  45.69  46.22  46.75  47.28   \n",
      "14   34.40  34.40  34.40  ...    37.07  37.30  37.77  38.24  38.71  39.18   \n",
      "15   29.17  29.17  29.17  ...    30.17  30.37  30.57  30.77  30.97  31.17   \n",
      "16   35.18  35.18  35.18  ...    35.18  35.18  35.18  35.18  35.18  35.18   \n",
      "17   30.30  30.30  30.30  ...    30.30  30.30  30.30  30.30  30.30  30.30   \n",
      "18   25.50  25.50  25.50  ...    22.72  21.60  21.00  22.36  22.18  22.00   \n",
      "19   32.12  32.12  32.12  ...    32.12  32.12  32.12  32.12  32.12  32.12   \n",
      "20   36.20  36.20  36.20  ...    36.20  36.20  36.20  36.20  36.20  36.20   \n",
      "21   40.05  40.06  40.06  ...    44.14  44.06  43.16  44.44  46.65  45.46   \n",
      "22   26.50  26.50  26.50  ...    26.50  26.50  26.50  26.50  26.50  26.50   \n",
      "23   31.00  31.00  31.00  ...    31.00  31.00  31.00  31.00  31.00  31.00   \n",
      "24     NaN    NaN    NaN  ...      NaN    NaN    NaN    NaN    NaN    NaN   \n",
      "25   28.80  28.80  28.80  ...    28.80  28.80  28.80  28.80  28.80  28.80   \n",
      "26   33.00  33.00  33.00  ...    33.00  33.00  33.00  33.00  33.00  33.00   \n",
      "27   35.10  35.10  35.10  ...    35.10  35.10  35.10  35.10  35.10  35.10   \n",
      "28   33.60  33.60  33.60  ...    33.60  33.60  33.60  33.60  33.60  33.60   \n",
      "29   32.00  32.00  32.00  ...    31.98  31.98  31.98  31.98  31.98  31.98   \n",
      "..     ...    ...    ...  ...      ...    ...    ...    ...    ...    ...   \n",
      "230  32.90  32.90  32.90  ...    38.80  38.80  38.80  38.80  38.80  38.80   \n",
      "231  28.80  28.80  28.80  ...    28.80  28.80  28.80  28.80  28.80  28.80   \n",
      "232  35.00  35.00  35.00  ...    35.00  35.00  35.00  35.00  35.00  35.00   \n",
      "233  24.00  24.00  24.00  ...    23.46  23.66  23.86  24.06  24.26  24.46   \n",
      "234    NaN    NaN    NaN  ...      NaN    NaN    NaN    NaN    NaN    NaN   \n",
      "235    NaN    NaN    NaN  ...      NaN    NaN    NaN    NaN    NaN    NaN   \n",
      "236  25.30  25.30  25.30  ...    25.30  25.30  25.30  25.30  25.30  25.30   \n",
      "237  36.60  36.60  36.60  ...    36.60  36.60  36.60  36.60  36.60  36.60   \n",
      "238  30.70  30.70  30.70  ...    30.70  30.70  30.70  30.70  30.70  30.70   \n",
      "239  43.22  40.05  40.35  ...    44.75  44.29  45.51  44.87  48.34  45.73   \n",
      "240  39.41  39.41  39.41  ...    45.21  45.58  45.95  46.33  46.70  47.07   \n",
      "241  32.90  32.90  32.90  ...    32.90  32.90  32.90  32.90  32.90  32.90   \n",
      "242    NaN    NaN    NaN  ...      NaN    NaN    NaN    NaN    NaN    NaN   \n",
      "243  26.93  26.93  26.93  ...    27.93  28.13  28.33  28.53  28.73  28.93   \n",
      "244    NaN    NaN    NaN  ...      NaN    NaN    NaN    NaN    NaN    NaN   \n",
      "245  24.30  24.30  24.30  ...    24.30  24.30  24.30  24.30  24.30  24.30   \n",
      "246  32.20  32.20  32.20  ...    32.20  32.20  32.20  32.20  32.20  32.20   \n",
      "247  32.10  32.10  32.10  ...    32.10  32.10  32.10  32.10  32.10  32.10   \n",
      "248    NaN    NaN    NaN  ...      NaN    NaN    NaN    NaN    NaN    NaN   \n",
      "249  34.75  34.75  34.75  ...    34.75  34.75  34.75  34.75  34.75  34.75   \n",
      "250  32.00  32.00  32.00  ...    32.00  32.00  32.00  32.00  32.00  32.00   \n",
      "251  33.40  33.40  33.40  ...    33.40  33.40  33.40  33.40  33.40  33.40   \n",
      "252    NaN    NaN    NaN  ...      NaN    NaN    NaN    NaN    NaN    NaN   \n",
      "253    NaN    NaN    NaN  ...      NaN    NaN    NaN    NaN    NaN    NaN   \n",
      "254  23.39  23.39  23.39  ...    23.39  23.39  23.39  23.39  23.39  23.39   \n",
      "255    NaN    NaN    NaN  ...      NaN    NaN    NaN    NaN    NaN    NaN   \n",
      "256  32.60  32.60  32.60  ...    32.60  32.60  32.60  32.60  32.60  32.60   \n",
      "257  33.70  33.70  33.70  ...    33.70  33.70  33.70  33.70  33.70  33.70   \n",
      "258    NaN    NaN    NaN  ...      NaN    NaN    NaN    NaN    NaN    NaN   \n",
      "259  26.67  26.67  26.67  ...    26.67  26.67  26.67  26.67  26.67  26.67   \n",
      "\n",
      "      1896   1897   1898   1899  \n",
      "0      NaN    NaN    NaN    NaN  \n",
      "1    27.23  27.22  27.21  27.20  \n",
      "2      NaN    NaN    NaN    NaN  \n",
      "3    35.40  35.40  35.40  35.40  \n",
      "4    28.82  28.82  28.82  28.82  \n",
      "5      NaN    NaN    NaN    NaN  \n",
      "6      NaN    NaN    NaN    NaN  \n",
      "7    26.98  26.98  26.98  26.98  \n",
      "8      NaN    NaN    NaN    NaN  \n",
      "9    33.54  33.54  33.54  33.54  \n",
      "10   34.00  34.70  35.40  36.10  \n",
      "11   36.20  36.40  36.23  36.06  \n",
      "12   34.42  34.42  34.42  34.42  \n",
      "13   47.81  48.34  48.87  49.40  \n",
      "14   39.65  40.12  40.59  41.06  \n",
      "15   31.37  31.57  31.40  31.23  \n",
      "16   35.18  35.18  35.18  35.18  \n",
      "17   30.30  30.30  30.30  30.30  \n",
      "18   20.00  19.00  21.86  21.82  \n",
      "19   32.12  32.12  32.12  32.12  \n",
      "20   36.20  36.20  36.20  36.20  \n",
      "21   48.06  48.82  48.12  46.49  \n",
      "22   26.50  26.50  26.50  26.50  \n",
      "23   31.00  31.00  31.00  31.00  \n",
      "24     NaN    NaN    NaN    NaN  \n",
      "25   28.80  28.80  28.80  28.80  \n",
      "26   33.00  33.00  33.00  33.00  \n",
      "27   35.10  35.10  35.10  35.10  \n",
      "28   33.60  33.60  33.60  33.60  \n",
      "29   31.98  31.98  31.98  31.98  \n",
      "..     ...    ...    ...    ...  \n",
      "230  38.80  38.80  38.80  38.80  \n",
      "231  28.80  28.80  28.80  28.80  \n",
      "232  35.00  35.00  35.00  35.00  \n",
      "233  24.66  24.86  24.69  24.52  \n",
      "234    NaN    NaN    NaN    NaN  \n",
      "235    NaN    NaN    NaN    NaN  \n",
      "236  25.30  25.30  25.30  25.30  \n",
      "237  36.60  36.60  36.60  36.60  \n",
      "238  30.70  30.70  30.70  30.70  \n",
      "239  47.41  47.23  46.98  46.13  \n",
      "240  47.44  47.81  48.18  48.56  \n",
      "241  32.90  32.90  32.90  32.90  \n",
      "242    NaN    NaN    NaN    NaN  \n",
      "243  29.13  29.33  29.16  28.99  \n",
      "244    NaN    NaN    NaN    NaN  \n",
      "245  24.30  24.30  24.30  24.30  \n",
      "246  32.20  32.20  32.20  32.20  \n",
      "247  32.10  32.10  32.10  32.10  \n",
      "248    NaN    NaN    NaN    NaN  \n",
      "249  34.75  34.75  34.75  34.75  \n",
      "250  32.00  32.00  32.00  32.00  \n",
      "251  33.40  33.40  33.40  33.40  \n",
      "252    NaN    NaN    NaN    NaN  \n",
      "253    NaN    NaN    NaN    NaN  \n",
      "254  23.39  23.39  23.39  23.39  \n",
      "255    NaN    NaN    NaN    NaN  \n",
      "256  32.60  32.60  32.60  32.60  \n",
      "257  33.70  33.70  33.70  33.70  \n",
      "258    NaN    NaN    NaN    NaN  \n",
      "259  26.67  26.67  26.67  26.67  \n",
      "\n",
      "[260 rows x 101 columns]\n",
      "<class 'pandas.core.frame.DataFrame'>\n",
      "RangeIndex: 260 entries, 0 to 259\n",
      "Columns: 101 entries, Life expectancy to 1899\n",
      "dtypes: float64(100), object(1)\n",
      "memory usage: 205.2+ KB\n",
      "None\n"
     ]
    }
   ],
   "source": [
    "url = 'https://assets.datacamp.com/production/course_2023/datasets/gapminder.csv'\n",
    "urlretrieve(url, 'dc_gapminder.csv')\n",
    "gapminder_raw = pd.read_csv('dc_gapminder.csv')\n",
    "\n",
    "g1800s = gapminder_raw.loc[:259,'1800':'1899']\n",
    "g1800s.insert(loc=0,column='Life expectancy',value=gapminder_raw['Life expectancy'])\n",
    "print(g1800s)\n",
    "print(g1800s.info())"
   ]
  },
  {
   "cell_type": "code",
   "execution_count": 129,
   "metadata": {},
   "outputs": [
    {
     "data": {
      "text/plain": [
       "(20, 55)"
      ]
     },
     "execution_count": 129,
     "metadata": {},
     "output_type": "execute_result"
    },
    {
     "data": {
      "image/png": "[encoded data removed]",
      "text/plain": [
       "<matplotlib.figure.Figure at 0x109beb080>"
      ]
     },
     "metadata": {},
     "output_type": "display_data"
    }
   ],
   "source": [
    "# Import matplotlib.pyplot\n",
    "import matplotlib.pyplot as plt\n",
    "\n",
    "# Create the scatter plot\n",
    "g1800s.plot(kind='scatter', x='1800', y='1899')\n",
    "\n",
    "# Specify axis labels\n",
    "plt.xlabel('Life Expectancy by Country in 1800')\n",
    "plt.ylabel('Life Expectancy by Country in 1899')\n",
    "\n",
    "# Specify axis limits\n",
    "plt.xlim(20, 55)\n",
    "plt.ylim(20, 55)"
   ]
  },
  {
   "cell_type": "code",
   "execution_count": 130,
   "metadata": {},
   "outputs": [],
   "source": [
    "def check_null_or_valid(row_data):\n",
    "    \"\"\"Function that takes a row of data,\n",
    "    drops all missing values,\n",
    "    and checks if all remaining values are greater than or equal to 0\n",
    "    \"\"\"\n",
    "    no_na = row_data.dropna()[1:-1]\n",
    "    numeric = pd.to_numeric(no_na)\n",
    "    ge0 = numeric >= 0\n",
    "    return ge0\n",
    "\n",
    "# Check whether the first column is 'Life expectancy'\n",
    "assert g1800s.columns[0] == 'Life expectancy'\n",
    "\n",
    "# Check whether the values in the row are valid\n",
    "assert g1800s.iloc[:, 1:].apply(check_null_or_valid, axis=1).all().all()\n",
    "\n",
    "# Check that there is only one instance of each country\n",
    "assert g1800s['Life expectancy'].value_counts()[0] == 1"
   ]
  },
  {
   "cell_type": "code",
   "execution_count": 131,
   "metadata": {},
   "outputs": [],
   "source": [
    "g1900s = gapminder_raw.loc[260:519,'1900':'1999']\n",
    "g1900s.insert(loc=0,column='Life expectancy',value=gapminder_raw['Life expectancy'])\n",
    "g2000s = gapminder_raw.loc[520:,'2000':'2016']\n",
    "g2000s.insert(loc=0,column='Life expectancy',value=gapminder_raw['Life expectancy'])"
   ]
  },
  {
   "cell_type": "code",
   "execution_count": 132,
   "metadata": {},
   "outputs": [
    {
     "name": "stdout",
     "output_type": "stream",
     "text": [
      "(780, 218)\n",
      "    1800   1801   1802   1803   1804   1805   1806   1807   1808   1809  \\\n",
      "0    NaN    NaN    NaN    NaN    NaN    NaN    NaN    NaN    NaN    NaN   \n",
      "1  28.21  28.20  28.19  28.18  28.17  28.16  28.15  28.14  28.13  28.12   \n",
      "2    NaN    NaN    NaN    NaN    NaN    NaN    NaN    NaN    NaN    NaN   \n",
      "3  35.40  35.40  35.40  35.40  35.40  35.40  35.40  35.40  35.40  35.40   \n",
      "4  28.82  28.82  28.82  28.82  28.82  28.82  28.82  28.82  28.82  28.82   \n",
      "\n",
      "           ...            2008  2009  2010  2011  2012  2013  2014  2015  \\\n",
      "0          ...             NaN   NaN   NaN   NaN   NaN   NaN   NaN   NaN   \n",
      "1          ...             NaN   NaN   NaN   NaN   NaN   NaN   NaN   NaN   \n",
      "2          ...             NaN   NaN   NaN   NaN   NaN   NaN   NaN   NaN   \n",
      "3          ...             NaN   NaN   NaN   NaN   NaN   NaN   NaN   NaN   \n",
      "4          ...             NaN   NaN   NaN   NaN   NaN   NaN   NaN   NaN   \n",
      "\n",
      "   2016        Life expectancy  \n",
      "0   NaN               Abkhazia  \n",
      "1   NaN            Afghanistan  \n",
      "2   NaN  Akrotiri and Dhekelia  \n",
      "3   NaN                Albania  \n",
      "4   NaN                Algeria  \n",
      "\n",
      "[5 rows x 218 columns]\n"
     ]
    }
   ],
   "source": [
    "# Concatenate the DataFrames row-wise\n",
    "gapminder = pd.concat([g1800s,g1900s,g2000s])\n",
    "\n",
    "print(gapminder.shape)\n",
    "\n",
    "print(gapminder.head())"
   ]
  },
  {
   "cell_type": "code",
   "execution_count": 133,
   "metadata": {},
   "outputs": [
    {
     "name": "stdout",
     "output_type": "stream",
     "text": [
      "                 country  year  life_expectancy\n",
      "0               Abkhazia  1800              NaN\n",
      "1            Afghanistan  1800            28.21\n",
      "2  Akrotiri and Dhekelia  1800              NaN\n",
      "3                Albania  1800            35.40\n",
      "4                Algeria  1800            28.82\n"
     ]
    }
   ],
   "source": [
    "# Melt gapminder: gapminder_melt\n",
    "gapminder_melt = pd.melt(gapminder,id_vars='Life expectancy')\n",
    "\n",
    "# Rename the columns\n",
    "gapminder_melt.columns = ['country','year','life_expectancy']\n",
    "\n",
    "# Print the head of gapminder_melt\n",
    "print(gapminder_melt.head())"
   ]
  },
  {
   "cell_type": "code",
   "execution_count": 135,
   "metadata": {},
   "outputs": [
    {
     "name": "stdout",
     "output_type": "stream",
     "text": [
      "<class 'pandas.core.frame.DataFrame'>\n",
      "RangeIndex: 169260 entries, 0 to 169259\n",
      "Data columns (total 3 columns):\n",
      "country            169260 non-null object\n",
      "year               169260 non-null int64\n",
      "life_expectancy    43857 non-null float64\n",
      "dtypes: float64(1), int64(1), object(1)\n",
      "memory usage: 3.9+ MB\n",
      "None\n"
     ]
    }
   ],
   "source": [
    "import numpy as np\n",
    "gapminder = gapminder_melt\n",
    "print(gapminder.info())\n",
    "# Convert the year column to numeric\n",
    "gapminder.year = pd.to_numeric(gapminder.year)\n",
    "\n",
    "# Test if country is of type object\n",
    "assert gapminder.country.dtypes == np.object\n",
    "\n",
    "# Test if year is of type int64\n",
    "assert gapminder.year.dtypes == np.int64\n",
    "\n",
    "# Test if life_expectancy is of type float64\n",
    "assert gapminder.life_expectancy.dtypes == np.float64"
   ]
  },
  {
   "cell_type": "code",
   "execution_count": 136,
   "metadata": {},
   "outputs": [
    {
     "name": "stdout",
     "output_type": "stream",
     "text": [
      "49            Congo, Dem. Rep.\n",
      "50                 Congo, Rep.\n",
      "53               Cote d'Ivoire\n",
      "73      Falkland Is (Malvinas)\n",
      "93               Guinea-Bissau\n",
      "98            Hong Kong, China\n",
      "118    United Korea (former)\\n\n",
      "131               Macao, China\n",
      "132             Macedonia, FYR\n",
      "145      Micronesia, Fed. Sts.\n",
      "161            Ngorno-Karabakh\n",
      "187             St. Barthélemy\n",
      "193     St.-Pierre-et-Miquelon\n",
      "225                Timor-Leste\n",
      "251      Virgin Islands (U.S.)\n",
      "252       North Yemen (former)\n",
      "253       South Yemen (former)\n",
      "258                      Åland\n",
      "Name: country, dtype: object\n"
     ]
    }
   ],
   "source": [
    "# Create the series of countries: countries\n",
    "countries = pd.Series(gapminder.country)\n",
    "\n",
    "# Drop all the duplicates from countries\n",
    "countries = countries.drop_duplicates()\n",
    "\n",
    "# Write the regular expression: pattern\n",
    "pattern = '^[A-Za-z\\.\\s]*$'\n",
    "\n",
    "# Create the Boolean vector: mask\n",
    "mask = countries.str.contains(pattern)\n",
    "\n",
    "# Invert the mask: mask_inverse\n",
    "mask_inverse = ~mask\n",
    "\n",
    "# Subset countries using mask_inverse: invalid_countries\n",
    "invalid_countries = countries.loc[mask_inverse]\n",
    "\n",
    "# Print invalid_countries\n",
    "print(invalid_countries)"
   ]
  },
  {
   "cell_type": "code",
   "execution_count": 137,
   "metadata": {},
   "outputs": [
    {
     "name": "stdout",
     "output_type": "stream",
     "text": [
      "(169260, 3)\n",
      "(43857, 3)\n"
     ]
    }
   ],
   "source": [
    "print(gapminder.shape)\n",
    "\n",
    "# Assert that country does not contain any missing values\n",
    "assert pd.notnull(gapminder.country).all()\n",
    "\n",
    "# Assert that year does not contain any missing values\n",
    "assert pd.notnull(gapminder.year).all()\n",
    "\n",
    "# Drop the missing values\n",
    "gapminder = gapminder.dropna()\n",
    "\n",
    "print(gapminder.shape)"
   ]
  },
  {
   "cell_type": "code",
   "execution_count": 138,
   "metadata": {},
   "outputs": [
    {
     "name": "stdout",
     "output_type": "stream",
     "text": [
      "year\n",
      "1800    31.486020\n",
      "1801    31.448905\n",
      "1802    31.463483\n",
      "1803    31.377413\n",
      "1804    31.446318\n",
      "Name: life_expectancy, dtype: float64\n",
      "year\n",
      "2012    71.663077\n",
      "2013    71.916106\n",
      "2014    72.088125\n",
      "2015    72.321010\n",
      "2016    72.556635\n",
      "Name: life_expectancy, dtype: float64\n"
     ]
    },
    {
     "data": {
      "image/png": "[encoded data removed]",
      "text/plain": [
       "<matplotlib.figure.Figure at 0x115de22b0>"
      ]
     },
     "metadata": {},
     "output_type": "display_data"
    }
   ],
   "source": [
    "# Add first subplot\n",
    "plt.subplot(2, 1, 1) \n",
    "\n",
    "# Create a histogram of life_expectancy\n",
    "gapminder.life_expectancy.plot(kind='hist')\n",
    "\n",
    "# Group gapminder: gapminder_agg\n",
    "gapminder_agg = gapminder.groupby('year')['life_expectancy'].mean()\n",
    "\n",
    "# Print the head of gapminder_agg\n",
    "print(gapminder_agg.head())\n",
    "\n",
    "# Print the tail of gapminder_agg\n",
    "print(gapminder_agg.tail())\n",
    "\n",
    "# Add second subplot\n",
    "plt.subplot(2, 1, 2)\n",
    "\n",
    "# Create a line plot of life expectancy per year\n",
    "gapminder_agg.plot()\n",
    "\n",
    "# Add title and specify axis labels\n",
    "plt.title('Life expectancy over the years')\n",
    "plt.ylabel('Life expectancy')\n",
    "plt.xlabel('Year')\n",
    "\n",
    "# Display the plots\n",
    "plt.tight_layout()\n",
    "plt.show()\n",
    "\n",
    "# Save both DataFrames to csv files\n",
    "gapminder.to_csv('gapminder_clean.csv')\n",
    "gapminder_agg.to_csv('gapminder_clean_mean.csv')"
   ]
  },
  {
   "cell_type": "code",
   "execution_count": null,
   "metadata": {},
   "outputs": [],
   "source": []
  }
 ],
 "metadata": {
  "kernelspec": {
   "display_name": "Python 3",
   "language": "python",
   "name": "python3"
  },
  "language_info": {
   "codemirror_mode": {
    "name": "ipython",
    "version": 3
   },
   "file_extension": ".py",
   "mimetype": "text/x-python",
   "name": "python",
   "nbconvert_exporter": "python",
   "pygments_lexer": "ipython3",
   "version": "3.6.4"
  }
 },
 "nbformat": 4,
 "nbformat_minor": 2
}
