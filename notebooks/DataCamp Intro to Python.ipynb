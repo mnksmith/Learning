{
 "cells": [
  {
   "cell_type": "code",
   "execution_count": 1,
   "metadata": {},
   "outputs": [
    {
     "data": {
      "text/plain": [
       "str"
      ]
     },
     "execution_count": 1,
     "metadata": {},
     "output_type": "execute_result"
    }
   ],
   "source": [
    "x = 'this is a string'\n",
    "type(x)"
   ]
  },
  {
   "cell_type": "code",
   "execution_count": 3,
   "metadata": {},
   "outputs": [
    {
     "data": {
      "text/plain": [
       "'e'"
      ]
     },
     "execution_count": 3,
     "metadata": {},
     "output_type": "execute_result"
    }
   ],
   "source": [
    "examplelist = ['a','b','c','d','e']\n",
    "examplelist [-1]"
   ]
  },
  {
   "cell_type": "code",
   "execution_count": 8,
   "metadata": {},
   "outputs": [
    {
     "data": {
      "text/plain": [
       "['d', 'e']"
      ]
     },
     "execution_count": 8,
     "metadata": {},
     "output_type": "execute_result"
    }
   ],
   "source": [
    "#slicing\n",
    "examplelist[3:5]\n"
   ]
  },
  {
   "cell_type": "code",
   "execution_count": 9,
   "metadata": {},
   "outputs": [
    {
     "data": {
      "text/plain": [
       "['e']"
      ]
     },
     "execution_count": 9,
     "metadata": {},
     "output_type": "execute_result"
    }
   ],
   "source": [
    "examplelist[4:]"
   ]
  },
  {
   "cell_type": "code",
   "execution_count": 10,
   "metadata": {},
   "outputs": [
    {
     "data": {
      "text/plain": [
       "['a', 'b', 'c']"
      ]
     },
     "execution_count": 10,
     "metadata": {},
     "output_type": "execute_result"
    }
   ],
   "source": [
    "examplelist[:3]"
   ]
  },
  {
   "cell_type": "code",
   "execution_count": 14,
   "metadata": {
    "scrolled": true
   },
   "outputs": [
    {
     "data": {
      "text/plain": [
       "(['a', 'b', 'c'], ['a', 'm', 'c'])"
      ]
     },
     "execution_count": 14,
     "metadata": {},
     "output_type": "execute_result"
    }
   ],
   "source": [
    "#make a new list, rather than a pointer to same list\n",
    "x = ['a','b','c']\n",
    "y = list(x)\n",
    "y[1]='m'\n",
    "x,y"
   ]
  },
  {
   "cell_type": "code",
   "execution_count": 16,
   "metadata": {
    "scrolled": false
   },
   "outputs": [
    {
     "name": "stdout",
     "output_type": "stream",
     "text": [
      "poolhouse\n",
      "POOLHOUSE\n",
      "3\n"
     ]
    }
   ],
   "source": [
    "# string to experiment with: room\n",
    "room = \"poolhouse\"\n",
    "\n",
    "# Use upper() on room: room_up\n",
    "room_up = room.upper()\n",
    "\n",
    "# Print out room and room_up\n",
    "print(room)\n",
    "print(room_up)\n",
    "\n",
    "# Print out the number of o's in room\n",
    "print(room.count(\"o\"))"
   ]
  },
  {
   "cell_type": "code",
   "execution_count": 18,
   "metadata": {},
   "outputs": [
    {
     "name": "stdout",
     "output_type": "stream",
     "text": [
      "[False False False False False False False False False False]\n",
      "[]\n"
     ]
    }
   ],
   "source": [
    "# height and weight are available as a regular lists\n",
    "height = [74, 74, 72, 72, 73, 69, 69, 71, 76, 71]\n",
    "weight = [180, 215, 210, 210, 188, 176, 209, 200, 231, 180]\n",
    "# Import numpy\n",
    "import numpy as np\n",
    "\n",
    "# Calculate the BMI: bmi\n",
    "np_height_m = np.array(height) * 0.0254\n",
    "np_weight_kg = np.array(weight) * 0.453592\n",
    "bmi = np_weight_kg / np_height_m ** 2\n",
    "\n",
    "# Create the light array\n",
    "light = bmi < 21\n",
    "\n",
    "# Print out light\n",
    "print(light)\n",
    "\n",
    "# Print out BMIs of all baseball players whose BMI is below 21\n",
    "print(bmi[light])"
   ]
  },
  {
   "cell_type": "code",
   "execution_count": null,
   "metadata": {},
   "outputs": [],
   "source": []
  }
 ],
 "metadata": {
  "kernelspec": {
   "display_name": "Python 3",
   "language": "python",
   "name": "python3"
  },
  "language_info": {
   "codemirror_mode": {
    "name": "ipython",
    "version": 3
   },
   "file_extension": ".py",
   "mimetype": "text/x-python",
   "name": "python",
   "nbconvert_exporter": "python",
   "pygments_lexer": "ipython3",
   "version": "3.6.4"
  }
 },
 "nbformat": 4,
 "nbformat_minor": 2
}
