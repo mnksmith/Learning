{
 "cells": [
  {
   "cell_type": "code",
   "execution_count": 1,
   "metadata": {},
   "outputs": [],
   "source": [
    "%matplotlib inline"
   ]
  },
  {
   "cell_type": "markdown",
   "metadata": {},
   "source": [
    "# Classification and Regression Trees\n",
    "\n",
    "### Decision Tree Classifier\n",
    "- Has max_depth as a hyperparameter.\n",
    "- Divides the feature space into rectangular regions"
   ]
  },
  {
   "cell_type": "code",
   "execution_count": 5,
   "metadata": {},
   "outputs": [
    {
     "name": "stdout",
     "output_type": "stream",
     "text": [
      "[1 0 0 1 0]\n",
      "Test set accuracy: 0.89\n"
     ]
    },
    {
     "name": "stderr",
     "output_type": "stream",
     "text": [
      "/Users/mnksmith/anaconda/envs/py36/lib/python3.6/site-packages/pandas/core/generic.py:4531: SettingWithCopyWarning: \n",
      "A value is trying to be set on a copy of a slice from a DataFrame\n",
      "\n",
      "See the caveats in the documentation: http://pandas.pydata.org/pandas-docs/stable/indexing.html#indexing-view-versus-copy\n",
      "  limit=limit, regex=regex)\n"
     ]
    }
   ],
   "source": [
    "import pandas as pd\n",
    "from sklearn.tree import DecisionTreeClassifier\n",
    "from sklearn.model_selection import train_test_split\n",
    "from sklearn.metrics import accuracy_score\n",
    "\n",
    "wbc = pd.read_csv('dc_wbc.csv')\n",
    "\n",
    "X = wbc[['radius_mean', 'concave points_mean']]\n",
    "y = wbc[['diagnosis']]\n",
    "y.replace({'M': 1, 'B': 0}, inplace=True)\n",
    "SEED = 1\n",
    "\n",
    "X_train, X_test, y_train, y_test = train_test_split(X, y, test_size=0.2, random_state=SEED)\n",
    "\n",
    "# Instantiate a DecisionTreeClassifier 'dt' with a maximum depth of 6\n",
    "dt = DecisionTreeClassifier(max_depth=6, random_state=SEED)\n",
    "\n",
    "# Fit dt to the training set\n",
    "dt.fit(X_train, y_train)\n",
    "\n",
    "# Predict test set labels\n",
    "y_pred = dt.predict(X_test)\n",
    "print(y_pred[0:5])\n",
    "\n",
    "# Compute test set accuracy  \n",
    "acc = accuracy_score(y_test, y_pred)\n",
    "print(\"Test set accuracy: {:.2f}\".format(acc))"
   ]
  },
  {
   "cell_type": "code",
   "execution_count": 35,
   "metadata": {},
   "outputs": [
    {
     "data": {
      "image/png": "[encoded data removed]",
      "text/plain": [
       "<matplotlib.figure.Figure at 0x1a1688ecc0>"
      ]
     },
     "metadata": {},
     "output_type": "display_data"
    }
   ],
   "source": [
    "import matplotlib.pyplot as plt\n",
    "import numpy as np\n",
    "\n",
    "plt.scatter(X_test.loc[y_test['diagnosis']==1]['radius_mean'], X_test.loc[y_test['diagnosis']==1]['concave points_mean'], marker = '^', c='blue')\n",
    "plt.scatter(X_test.loc[y_test['diagnosis']==0]['radius_mean'], X_test.loc[y_test['diagnosis']==0]['concave points_mean'], marker = 's', c='red')\n",
    "\n",
    "plot_step = 0.001\n",
    "x_min, x_max = X_test['radius_mean'].min() - 1, X_test['radius_mean'].max() + 1\n",
    "y_min, y_max = X_test['concave points_mean'].min() - 0.01, X_test['concave points_mean'].max() + 0.01\n",
    "xx, yy = np.meshgrid(np.arange(x_min, x_max, plot_step),\n",
    "                         np.arange(y_min, y_max, plot_step))\n",
    "Z = dt.predict(np.c_[xx.ravel(), yy.ravel()])\n",
    "Z = Z.reshape(xx.shape)\n",
    "\n",
    "plt.contourf(xx, yy, Z, cmap=plt.cm.RdBu, alpha=0.3)\n",
    "plt.xlabel('radius mean')\n",
    "plt.ylabel('concave points mean')\n",
    "plt.show()"
   ]
  },
  {
   "cell_type": "markdown",
   "metadata": {},
   "source": [
    "### Classification tree learning\n",
    "\n",
    "Nodes are grown recursively. A node exists depending on the state of its predecessors.\n",
    "\n",
    "At each node, split the data based on a feature and a split point criterion to maximize the information gained (can use entropy or gini index). The information gained depends on the \"impurity\" of each node involved.\n",
    "\n",
    "If no energy is gained, it's a leaf/prediction."
   ]
  },
  {
   "cell_type": "code",
   "execution_count": 36,
   "metadata": {},
   "outputs": [
    {
     "name": "stdout",
     "output_type": "stream",
     "text": [
      "Accuracy achieved by using entropy:  0.8947368421052632\n",
      "Accuracy achieved by using the gini index:  0.8859649122807017\n"
     ]
    }
   ],
   "source": [
    "# Instantiate dt_entropy, set 'entropy' as the information criterion\n",
    "dt_entropy = DecisionTreeClassifier(max_depth=8, criterion='entropy', random_state=1)\n",
    "dt_gini = DecisionTreeClassifier(max_depth=8, criterion='gini', random_state=1)\n",
    "\n",
    "# Fit dt_entropy to the training set\n",
    "dt_entropy.fit(X_train, y_train)\n",
    "dt_gini.fit(X_train, y_train)\n",
    "\n",
    "# Use dt_entropy to predict test set labels\n",
    "y_pred_e = dt_entropy.predict(X_test)\n",
    "y_pred_g = dt_gini.predict(X_test)\n",
    "\n",
    "# Evaluate accuracy_entropy\n",
    "accuracy_entropy = accuracy_score(y_pred_e, y_test)\n",
    "accuracy_gini = accuracy_score(y_pred_g, y_test)\n",
    "\n",
    "# Print accuracy_entropy\n",
    "print('Accuracy achieved by using entropy: ', accuracy_entropy)\n",
    "\n",
    "# Print accuracy_gini\n",
    "print('Accuracy achieved by using the gini index: ', accuracy_gini)"
   ]
  },
  {
   "cell_type": "markdown",
   "metadata": {},
   "source": [
    "### Decision Tree Regression\n",
    "\n",
    "For a regression tree, the impurity of a node is measured using the mean squared error of the targets in that node."
   ]
  },
  {
   "cell_type": "code",
   "execution_count": 79,
   "metadata": {},
   "outputs": [
    {
     "name": "stdout",
     "output_type": "stream",
     "text": [
      "Linear Regression test set RMSE: 3.82\n",
      "Regression Tree test set RMSE: 4.44\n"
     ]
    }
   ],
   "source": [
    "from sklearn.tree import DecisionTreeRegressor\n",
    "from sklearn.metrics import mean_squared_error as MSE\n",
    "from sklearn.linear_model import LinearRegression\n",
    "\n",
    "auto = pd.read_csv('dc_auto-mpg2.csv')\n",
    "\n",
    "X = auto.drop('mpg', axis=1)\n",
    "X = pd.get_dummies(X)\n",
    "y = auto[['mpg']]\n",
    "\n",
    "X_train, X_test, y_train, y_test = train_test_split(X, y, test_size=0.3, random_state=1)\n",
    "\n",
    "dt = DecisionTreeRegressor(max_depth=8,\n",
    "             min_samples_leaf=0.13,\n",
    "            random_state=3)\n",
    "lr = LinearRegression()\n",
    "\n",
    "dt.fit(X_train, y_train)\n",
    "lr.fit(X_train, y_train)\n",
    "\n",
    "y_pred = dt.predict(X_test)\n",
    "y_pred_lr = lr.predict(X_test)\n",
    "\n",
    "mse_dt = MSE(y_test, y_pred)\n",
    "mse_lr = MSE(y_test, y_pred_lr)\n",
    "\n",
    "rmse_dt = mse_dt**(1/2)\n",
    "rmse_lr = mse_lr**(1/2)\n",
    "\n",
    "print('Linear Regression test set RMSE: {:.2f}'.format(rmse_lr))\n",
    "print('Regression Tree test set RMSE: {:.2f}'.format(rmse_dt))"
   ]
  },
  {
   "cell_type": "markdown",
   "metadata": {},
   "source": [
    "# Bias vs Variance\n",
    "\n",
    "Overfitting vs underfitting.\n",
    "\n",
    "Find the balance between bias and variance that minimizes the Generalization Error.\n",
    "\n",
    "High Variance:\n",
    "- CV error greater than the training set error\n",
    "- This mean's there's overfitting\n",
    "- Decrease model complexity or gather more data\n",
    "\n",
    "High Bias:\n",
    "- CV error is much higher than desired error\n",
    "- This means there's underfitting\n",
    "- Increase model complexity or gather more features"
   ]
  },
  {
   "cell_type": "code",
   "execution_count": 80,
   "metadata": {},
   "outputs": [
    {
     "name": "stdout",
     "output_type": "stream",
     "text": [
      "CV RMSE: 5.14\n",
      "Train RMSE: 5.15\n"
     ]
    }
   ],
   "source": [
    "from sklearn.model_selection import cross_val_score\n",
    "\n",
    "dt = DecisionTreeRegressor(max_depth=4, min_samples_leaf=0.26, random_state=1)\n",
    "\n",
    "# Compute the array containing the 10-folds CV MSEs\n",
    "MSE_CV_scores = - cross_val_score(dt, X_train, y_train, cv=10, \n",
    "                       scoring='neg_mean_squared_error',\n",
    "                       n_jobs=-1)\n",
    "\n",
    "# Compute the 10-folds CV RMSE\n",
    "RMSE_CV = (MSE_CV_scores.mean())**(1/2)\n",
    "\n",
    "# Print RMSE_CV\n",
    "print('CV RMSE: {:.2f}'.format(RMSE_CV))\n",
    "\n",
    "# Fit dt to the training set\n",
    "dt.fit(X_train, y_train)\n",
    "\n",
    "# Predict the labels of the training set\n",
    "y_pred_train = dt.predict(X_train)\n",
    "\n",
    "# Evaluate the training set RMSE of dt\n",
    "RMSE_train = (MSE(y_train, y_pred_train))**(1/2)\n",
    "\n",
    "# Print RMSE_train\n",
    "print('Train RMSE: {:.2f}'.format(RMSE_train))"
   ]
  },
  {
   "cell_type": "markdown",
   "metadata": {},
   "source": [
    "dt suffers from high bias, i.e., it's underfitting the data, because both errors are about the same, and too high.\n",
    "\n",
    "### Ensemble Learning\n",
    "\n",
    "Classification and Regression Trees (CARTs) are sensitive to small variations in the training set. They are vulnerable to high variance and may overfit, if unconstrained.\n",
    "\n",
    "In Ensemble Learning, we train different models on the same data, then aggregate the predictions with a meta-model so that the final prediction result is more robust.\n",
    "\n",
    "E.g. hard voting: each classifier used to train gets a \"vote\" and the final voting classifier predicts the result with the most votes."
   ]
  },
  {
   "cell_type": "code",
   "execution_count": 89,
   "metadata": {},
   "outputs": [
    {
     "name": "stdout",
     "output_type": "stream",
     "text": [
      "Logistic Regression : 0.764\n",
      "K Nearest Neighbours : 0.701\n",
      "Classification Tree : 0.730\n"
     ]
    }
   ],
   "source": [
    "from sklearn.linear_model import LogisticRegression\n",
    "from sklearn.tree import DecisionTreeClassifier\n",
    "from sklearn.neighbors import KNeighborsClassifier as KNN\n",
    "\n",
    "liver = pd.read_csv('dc_indian_liver_patient_preprocessed.csv', index_col=0)\n",
    "X = liver.drop('Liver_disease', axis=1)\n",
    "y = liver[['Liver_disease']]\n",
    "\n",
    "X_train, X_test, y_train, y_test = train_test_split(X, y, test_size=0.3, random_state=SEED)\n",
    "\n",
    "SEED=1\n",
    "\n",
    "lr = LogisticRegression(random_state=SEED)\n",
    "knn = KNN(n_neighbors=27)\n",
    "dt = DecisionTreeClassifier(min_samples_leaf=0.13, random_state=SEED)\n",
    "\n",
    "classifiers = [('Logistic Regression', lr), ('K Nearest Neighbours', knn), ('Classification Tree', dt)]\n",
    "\n",
    "for clf_name, clf in classifiers:    \n",
    " \n",
    "    clf.fit(X_train, np.ravel(y_train))  \n",
    "   \n",
    "    y_pred = clf.predict(X_test)\n",
    "    \n",
    "    accuracy = accuracy_score(y_test, y_pred) \n",
    "   \n",
    "    print('{:s} : {:.3f}'.format(clf_name, accuracy))"
   ]
  },
  {
   "cell_type": "code",
   "execution_count": 93,
   "metadata": {},
   "outputs": [
    {
     "name": "stdout",
     "output_type": "stream",
     "text": [
      "Voting Classifier: 0.770\n"
     ]
    },
    {
     "name": "stderr",
     "output_type": "stream",
     "text": [
      "/Users/mnksmith/anaconda/envs/py36/lib/python3.6/site-packages/sklearn/preprocessing/label.py:151: DeprecationWarning: The truth value of an empty array is ambiguous. Returning False, but in future this will result in an error. Use `array.size > 0` to check that an array is not empty.\n",
      "  if diff:\n"
     ]
    }
   ],
   "source": [
    "from sklearn.ensemble import VotingClassifier\n",
    "\n",
    "vc = VotingClassifier(estimators=classifiers)     \n",
    "\n",
    "vc.fit(X_train, np.ravel(y_train))\n",
    "\n",
    "y_pred = vc.predict(X_test)\n",
    "\n",
    "accuracy = accuracy_score(y_test, y_pred)\n",
    "print('Voting Classifier: {:.3f}'.format(accuracy))"
   ]
  },
  {
   "cell_type": "markdown",
   "metadata": {},
   "source": [
    "# Bagging and Random Forests\n",
    "\n",
    "### Bootstrap aggregation, or Bagging\n",
    "\n",
    "In Bagging, you use one algorithm, but train on different subsets of the data (with replacement).  This reduces variance.\n",
    "\n",
    "In classification, the final prediction is given by majority voting.\n",
    "\n",
    "In regression, the final prediction is given by averaging."
   ]
  },
  {
   "cell_type": "code",
   "execution_count": 97,
   "metadata": {},
   "outputs": [
    {
     "name": "stdout",
     "output_type": "stream",
     "text": [
      "Test set accuracy of bc: 0.73\n"
     ]
    }
   ],
   "source": [
    "from sklearn.tree import DecisionTreeClassifier\n",
    "from sklearn.ensemble import BaggingClassifier\n",
    "\n",
    "dt = DecisionTreeClassifier(min_samples_leaf=0.13, random_state=1)\n",
    "\n",
    "bc = BaggingClassifier(base_estimator=dt, n_estimators=50, random_state=1)\n",
    "\n",
    "bc.fit(X_train, np.ravel(y_train))\n",
    "\n",
    "y_pred = bc.predict(X_test)\n",
    "\n",
    "acc_test = accuracy_score(y_test, y_pred)\n",
    "print('Test set accuracy of bc: {:.2f}'.format(acc_test)) "
   ]
  },
  {
   "cell_type": "markdown",
   "metadata": {},
   "source": [
    "### Out of Bag (OOB)\n",
    "\n",
    "Include the samples not selected by bagging."
   ]
  },
  {
   "cell_type": "code",
   "execution_count": 99,
   "metadata": {},
   "outputs": [
    {
     "name": "stdout",
     "output_type": "stream",
     "text": [
      "Test set accuracy: 0.718, OOB accuracy: 0.684\n"
     ]
    }
   ],
   "source": [
    "dt = DecisionTreeClassifier(min_samples_leaf=8, random_state=1)\n",
    "\n",
    "bc = BaggingClassifier(base_estimator=dt, \n",
    "            n_estimators=50,\n",
    "            oob_score=True,\n",
    "            random_state=1)\n",
    "bc.fit(X_train, np.ravel(y_train))\n",
    "\n",
    "y_pred = bc.predict(X_test)\n",
    "\n",
    "acc_test = accuracy_score(y_test, y_pred)\n",
    "\n",
    "acc_oob = bc.oob_score_\n",
    "\n",
    "print('Test set accuracy: {:.3f}, OOB accuracy: {:.3f}'.format(acc_test, acc_oob))"
   ]
  },
  {
   "cell_type": "markdown",
   "metadata": {},
   "source": [
    "### Random Forests\n",
    "\n",
    "Each estimator is trained on a different bootstrapped sample having the same size as the training set.\n",
    "\n",
    "A number of features *d* are sampled at each node (without replacement). The one that maximizes information gain is selected.\n",
    "\n",
    "Aggregates predictions by majority voting.\n",
    "\n",
    "In general, gets a lower variance than regular decision trees.\n",
    "\n",
    "Feature importance can be accessed by extracting the `feature_importance_` attribute of the classifier after fitting."
   ]
  },
  {
   "cell_type": "code",
   "execution_count": 104,
   "metadata": {},
   "outputs": [
    {
     "name": "stdout",
     "output_type": "stream",
     "text": [
      "Test set RMSE of rf: 51.11\n"
     ]
    }
   ],
   "source": [
    "from sklearn.ensemble import RandomForestRegressor\n",
    "\n",
    "bikes = pd.read_csv('dc_bikes.csv')\n",
    "X = bikes.drop('cnt', axis=1)\n",
    "y = bikes[['cnt']]\n",
    "\n",
    "X_train, X_test, y_train, y_test = train_test_split(X, y, test_size=0.3, random_state=2)\n",
    "\n",
    "rf = RandomForestRegressor(n_estimators=25, random_state=2)\n",
    "              \n",
    "rf.fit(X_train, np.ravel(y_train))\n",
    "\n",
    "y_pred = rf.predict(X_test)\n",
    "\n",
    "rmse_test = MSE(y_test, y_pred)**(1/2)\n",
    "print('Test set RMSE of rf: {:.2f}'.format(rmse_test))"
   ]
  },
  {
   "cell_type": "code",
   "execution_count": 105,
   "metadata": {},
   "outputs": [
    {
     "data": {
      "text/plain": [
       "Text(0.5,1,'Features Importances')"
      ]
     },
     "execution_count": 105,
     "metadata": {},
     "output_type": "execute_result"
    },
    {
     "data": {
      "image/png": "[encoded data removed]",
      "text/plain": [
       "<matplotlib.figure.Figure at 0x1a168bac18>"
      ]
     },
     "metadata": {},
     "output_type": "display_data"
    }
   ],
   "source": [
    "importances = pd.Series(data=rf.feature_importances_, index= X_train.columns)\n",
    "\n",
    "importances_sorted = importances.sort_values()\n",
    "\n",
    "importances_sorted.plot(kind='barh', color='darkblue')\n",
    "plt.title('Features Importances')"
   ]
  },
  {
   "cell_type": "markdown",
   "metadata": {},
   "source": [
    "# Boosting\n",
    "\n",
    "Many weak learners are combined to form a strong learner. They are trained sequentially and each tries to correct the mistakes made by its predecessors.\n",
    "\n",
    "*Adaboost*: (Adaptive Boosting)\n",
    "- Each predictor pays more attention to instances wrongly predicted by its predecessor\n",
    "- Change weights of training samples\n",
    "- Each predictor has a coefficient $\\alpha$ that depends on that predictor's training error.\n",
    "- Learning rate $\\eta$: Between 0 and 1, used to shrink the coefficient $\\alpha$. Small value of $\\eta$ requires a larger number of estimators.\n",
    "- Classification: Majority voting, Regression: Weighted average."
   ]
  },
  {
   "cell_type": "code",
   "execution_count": 133,
   "metadata": {},
   "outputs": [
    {
     "name": "stdout",
     "output_type": "stream",
     "text": [
      "ROC AUC score: 0.78\n",
      "Test set accuracy of bc: 0.73\n"
     ]
    }
   ],
   "source": [
    "from sklearn.ensemble import AdaBoostClassifier\n",
    "from sklearn.metrics import roc_auc_score\n",
    "\n",
    "X = liver.drop('Liver_disease', axis=1)\n",
    "y = liver[['Liver_disease']]\n",
    "\n",
    "X_train, X_test, y_train, y_test = train_test_split(X, y, test_size=0.2, random_state=1)\n",
    "\n",
    "dt = DecisionTreeClassifier(max_depth=2, min_samples_leaf=0.13, random_state=1)\n",
    "ada = AdaBoostClassifier(base_estimator=dt, n_estimators=180, random_state=1)\n",
    "\n",
    "ada.fit(X_train, np.ravel(y_train))\n",
    "\n",
    "y_pred = ada.predict(X_test)\n",
    "y_pred_proba = ada.predict_proba(X_test)[:,1]\n",
    "\n",
    "ada_roc_auc = roc_auc_score(y_test, y_pred_proba)\n",
    "print('ROC AUC score: {:.2f}'.format(ada_roc_auc))\n",
    "\n",
    "acc_test = accuracy_score(y_test, y_pred)\n",
    "print('Test set accuracy of bc: {:.2f}'.format(acc_test)) "
   ]
  },
  {
   "cell_type": "markdown",
   "metadata": {},
   "source": [
    "*Gradient Boosting*:\n",
    "- Does not tweak the weights of training samples\n",
    "- Each predictor is trained using its predecessors error as labels\n",
    "- Shrinkage $\\eta$: the prediction of each tree is shrunk by $\\eta$. Tradeoff with number of estimators like in Adaboost"
   ]
  },
  {
   "cell_type": "code",
   "execution_count": 142,
   "metadata": {},
   "outputs": [
    {
     "name": "stdout",
     "output_type": "stream",
     "text": [
      "Test set RMSE of gb: 49.796\n"
     ]
    }
   ],
   "source": [
    "from sklearn.ensemble import GradientBoostingRegressor\n",
    "\n",
    "bikes = pd.read_csv('dc_bikes.csv')\n",
    "X = bikes.drop('cnt', axis=1)\n",
    "y = bikes[['cnt']]\n",
    "\n",
    "X_train, X_test, y_train, y_test = train_test_split(X, y, test_size=0.2, random_state=2)\n",
    "\n",
    "gb = GradientBoostingRegressor(max_depth=4, n_estimators=200, random_state=2)\n",
    "\n",
    "gb.fit(X_train, np.ravel(y_train))\n",
    "y_pred = gb.predict(X_test)\n",
    "\n",
    "rmse_test = MSE(y_test, y_pred)**(1/2)\n",
    "print('Test set RMSE of gb: {:.3f}'.format(rmse_test))"
   ]
  },
  {
   "cell_type": "markdown",
   "metadata": {},
   "source": [
    "Gradient Boosting must execute an exhaustive search, which might repeat CARTs with same split points/features.\n",
    "\n",
    "*Stochastic Gradient Boosting*:\n",
    "- Each tree trained on a random subset of rows in the sample, without replacement\n",
    "- Features are sampled without replacement when choosing split points\n",
    "- Adds more variance to the ensemble of trees"
   ]
  },
  {
   "cell_type": "code",
   "execution_count": 143,
   "metadata": {},
   "outputs": [
    {
     "name": "stdout",
     "output_type": "stream",
     "text": [
      "Test set RMSE of gb: 47.454\n"
     ]
    }
   ],
   "source": [
    "sgbr = GradientBoostingRegressor(max_depth=4, \n",
    "                                 subsample=0.9,\n",
    "                                 max_features=0.75,\n",
    "                                 n_estimators=200,                                \n",
    "                                 random_state=2)\n",
    "sgbr.fit(X_train, np.ravel(y_train))\n",
    "y_pred = sgbr.predict(X_test)\n",
    "\n",
    "rmse_test = MSE(y_test, y_pred)**(1/2)\n",
    "print('Test set RMSE of gb: {:.3f}'.format(rmse_test))"
   ]
  },
  {
   "cell_type": "markdown",
   "metadata": {},
   "source": [
    "# Tuning Hyperparameters\n",
    "\n",
    "Grid Search:\n",
    "- Set a metric for evaluating model performance\n",
    "- Manually search through a grid of discrete hyperparameter values\n",
    "- For each set of hyperparameters, get the model's CV score, pick the best"
   ]
  },
  {
   "cell_type": "code",
   "execution_count": 148,
   "metadata": {},
   "outputs": [
    {
     "name": "stdout",
     "output_type": "stream",
     "text": [
      "Test set ROC AUC score: 0.731\n",
      "Best hyerparameters:\n",
      " {'max_depth': 3, 'min_samples_leaf': 0.14}\n"
     ]
    }
   ],
   "source": [
    "from sklearn.model_selection import GridSearchCV\n",
    "\n",
    "X = liver.drop('Liver_disease', axis=1)\n",
    "y = liver[['Liver_disease']]\n",
    "\n",
    "X_train, X_test, y_train, y_test = train_test_split(X, y, test_size=0.2, random_state=1)\n",
    "\n",
    "dt = DecisionTreeClassifier(random_state=1)\n",
    "\n",
    "params_dt = {'max_depth': [2,3,4],\n",
    "             'min_samples_leaf': [0.12,0.14,0.16,0.18]\n",
    "            }\n",
    "\n",
    "grid_dt = GridSearchCV(estimator=dt,\n",
    "                       param_grid=params_dt,\n",
    "                       scoring='roc_auc',\n",
    "                       cv=5,\n",
    "                       n_jobs=-1)\n",
    "\n",
    "grid_dt.fit(X_train, y_train)\n",
    "\n",
    "best_model = grid_dt.best_estimator_\n",
    "\n",
    "y_pred_proba = best_model.predict_proba(X_test)[:,1]\n",
    "\n",
    "test_roc_auc = roc_auc_score(y_test, y_pred_proba)\n",
    "print('Test set ROC AUC score: {:.3f}'.format(test_roc_auc))\n",
    "\n",
    "print('Best hyerparameters:\\n', grid_dt.best_params_)"
   ]
  },
  {
   "cell_type": "markdown",
   "metadata": {},
   "source": [
    "### Random Forest Hyperparameters:\n",
    "\n",
    "- CART hyperparameters\n",
    "- number of estimators\n",
    "- bootstrapping"
   ]
  },
  {
   "cell_type": "code",
   "execution_count": 151,
   "metadata": {},
   "outputs": [
    {
     "name": "stdout",
     "output_type": "stream",
     "text": [
      "Fitting 3 folds for each of 27 candidates, totalling 81 fits\n"
     ]
    },
    {
     "name": "stderr",
     "output_type": "stream",
     "text": [
      "[Parallel(n_jobs=-1)]: Done  34 tasks      | elapsed:    4.0s\n",
      "[Parallel(n_jobs=-1)]: Done  81 out of  81 | elapsed:    8.8s finished\n"
     ]
    },
    {
     "name": "stdout",
     "output_type": "stream",
     "text": [
      "Test RMSE of best model: 54.282\n",
      "Best hyerparameters:\n",
      " {'max_features': 'auto', 'min_samples_leaf': 2, 'n_estimators': 500}\n"
     ]
    }
   ],
   "source": [
    "X = bikes.drop('cnt', axis=1)\n",
    "y = bikes[['cnt']]\n",
    "\n",
    "X_train, X_test, y_train, y_test = train_test_split(X, y, test_size=0.2, random_state=2)\n",
    "\n",
    "rf = RandomForestRegressor(random_state=1)\n",
    "\n",
    "params_rf = {'n_estimators': [100,350,500],\n",
    "             'max_features': ['log2','auto','sqrt'],\n",
    "             'min_samples_leaf': [2,10,30]\n",
    "            }\n",
    "grid_rf = GridSearchCV(estimator=rf,\n",
    "                       param_grid=params_rf,\n",
    "                       scoring='neg_mean_squared_error',\n",
    "                       cv=3,\n",
    "                       verbose=1,\n",
    "                       n_jobs=-1)\n",
    "\n",
    "grid_rf.fit(X_train, np.ravel(y_train))\n",
    "\n",
    "best_model = grid_rf.best_estimator_\n",
    "\n",
    "y_pred = best_model.predict(X_test)\n",
    "\n",
    "rmse_test = MSE(y_test, y_pred)**(1/2)\n",
    "print('Test RMSE of best model: {:.3f}'.format(rmse_test))\n",
    "\n",
    "print('Best hyerparameters:\\n', grid_rf.best_params_)"
   ]
  },
  {
   "cell_type": "code",
   "execution_count": null,
   "metadata": {},
   "outputs": [],
   "source": []
  }
 ],
 "metadata": {
  "kernelspec": {
   "display_name": "Python 3",
   "language": "python",
   "name": "python3"
  },
  "language_info": {
   "codemirror_mode": {
    "name": "ipython",
    "version": 3
   },
   "file_extension": ".py",
   "mimetype": "text/x-python",
   "name": "python",
   "nbconvert_exporter": "python",
   "pygments_lexer": "ipython3",
   "version": "3.6.4"
  }
 },
 "nbformat": 4,
 "nbformat_minor": 2
}
